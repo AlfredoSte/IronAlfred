{
 "cells": [
  {
   "cell_type": "markdown",
   "id": "270308df",
   "metadata": {},
   "source": [
    "### 1) Tips from Jule"
   ]
  },
  {
   "cell_type": "code",
   "execution_count": 1,
   "id": "1f74414a",
   "metadata": {},
   "outputs": [],
   "source": [
    "#libraries\n",
    "import pandas as pd"
   ]
  },
  {
   "cell_type": "code",
   "execution_count": 1,
   "id": "67c84ed6",
   "metadata": {},
   "outputs": [],
   "source": [
    "# loading csv into dataframe\n",
    "\n",
    "def load_data(path):\n",
    "    return pd.read_csv(path)\n",
    "\n",
    "e.g. \n",
    "df2 = pd.read_csv(\"customer_analysis_clean.csv\")\n",
    "df2"
   ]
  },
  {
   "cell_type": "code",
   "execution_count": null,
   "id": "3fb89e5a",
   "metadata": {},
   "outputs": [],
   "source": [
    "# Transform data\n",
    "\n",
    "def transform_data(df):\n",
    "    df[\"total_claim_amount\"]=round(df[\"total_claim_amount\"],0) # remove decimals\n",
    "    df[\"state\"]=df[\"state\"].apply(state_region) # change the column name state into the column name state_region\n",
    "    \n",
    "    return df\n",
    "\n",
    "# dont forget to ultimately apply the function on the relevant df such as df = transform_data(df)"
   ]
  },
  {
   "cell_type": "code",
   "execution_count": 2,
   "id": "27e96598",
   "metadata": {},
   "outputs": [],
   "source": [
    "# cleaning\n",
    "\n",
    "def clean_data(df):\n",
    "    df.clouns = [e.lower().replace(\" \", \"_\") for e in df.columns] #all columns in lower case\n",
    "    df=df.drop(columns=[\"unnamed:_0\", \"vehicle_type\", \"customer\"]) #dropping useless columns\n",
    "    df[\"effective_to_date\"]=pd.to_datetime(df[\"effective_to_date\"], errors=\"coerce\") # change formate to date\n",
    "    df[\"month\"]=list(map(lambda date:date.strftime(format=\"%B\"),df[\"effective_to_date\"])) #get from effective to date just the months (%A would be day)\n",
    "    df=df.drop(columns=[\"effective_to_date\"]) #again dropping unnecessary columns\n",
    "    df[\"state\"] = df[\"state\"].apply(st_clean)\n",
    "    df[\"gender\"] = df[\"gender\"].apply(gender_clean) # both probably changing the name of the column from the former to the new\n",
    "    df = df.drop_duplicates() #dropping all the entirely same rows in the df and overwrite the old version with the new one\n",
    "    df = df.reset_index(drop=True) #ensuring that the amount of index is reduced to the new/correct amount after dropping some rows\n",
    "    df = df.dropna() #drop if any cell is empty\n",
    "    df[\"customer_lifetime_value\"].fillna(df[\"customer_lifetime_value\"].mean(),inplace=True) #fill empty cells of a column with its respective average\n",
    "    df[\"vehicle_type\"] = df[\"vehicle_type\"].fillna(value=\"M\") #fill empty cells of a column with the M value only\n",
    "    df[\"number_of_open_complaints\"] = df[\"number_of_open_complaints\"].fillna(value=0) #fill empty cells of a column with 0 value only\n",
    "    \n",
    "    return df\n",
    "\n",
    "# dont forget to ultimately apply the function on the relevant df such as df = clean_data(df)\n",
    "# below we have a BETTER SPLIT SOLUTION:"
   ]
  },
  {
   "cell_type": "markdown",
   "id": "4e438e0d",
   "metadata": {},
   "source": [
    "### 2) OWN WAY DONE\n",
    "See own Pipeline at the beginning of -> http://localhost:8888/notebooks/Documents/GitHub/IronAlfred/LAB_Vol_2_Linear_Regression_M_Day18/LAB_Vol_2_Linear_Regression_M_Day18.ipynb"
   ]
  },
  {
   "cell_type": "code",
   "execution_count": null,
   "id": "747960f7",
   "metadata": {},
   "outputs": [],
   "source": [
    "#libraries\n",
    "import matplotlib.pyplot as plt\n",
    "from matplotlib.collections import LineCollection\n",
    "%matplotlib inline\n",
    "from numpy import random\n",
    "import seaborn as sns\n",
    "import pandas as pd\n",
    "import numpy as np\n",
    "import scipy as sc\n",
    "from ipywidgets import interactive\n",
    "import ipywidgets as widgets\n",
    "from sklearn.metrics import mean_squared_error, r2_score\n",
    "from scipy.stats import boxcox\n",
    "from sklearn.preprocessing import QuantileTransformer\n",
    "from sklearn.preprocessing import PowerTransformer\n",
    "from sklearn.model_selection import train_test_split\n",
    "from sklearn.linear_model import LinearRegression\n",
    "from sklearn.metrics import mean_squared_error, r2_score"
   ]
  },
  {
   "cell_type": "code",
   "execution_count": null,
   "id": "b953c8f6",
   "metadata": {},
   "outputs": [],
   "source": [
    "#Function for reading the data:\n",
    "def read_customer_data():\n",
    "    return pd.read_csv(\"Data_Marketing_Customer_Analysis_Round2.csv\")"
   ]
  },
  {
   "cell_type": "code",
   "execution_count": null,
   "id": "a6ac2693",
   "metadata": {},
   "outputs": [],
   "source": [
    "df = read_customer_data()"
   ]
  },
  {
   "cell_type": "code",
   "execution_count": null,
   "id": "9f58dde1",
   "metadata": {},
   "outputs": [],
   "source": [
    "#Function for standardizing column names:\n",
    "def standardize(df):\n",
    "    new_columns = df.columns.str.lower().str.replace(\" \", \"_\")\n",
    "    df.columns = new_columns\n",
    "    return df"
   ]
  },
  {
   "cell_type": "code",
   "execution_count": null,
   "id": "bf9011a4",
   "metadata": {},
   "outputs": [],
   "source": [
    "#Function for dropping customer and unnamed:_0 columns\n",
    "def drop_2cols(df):\n",
    "    df.drop(columns=[\"unnamed:_0\", \"customer\"], inplace=True)\n",
    "    return df"
   ]
  },
  {
   "cell_type": "code",
   "execution_count": null,
   "id": "5ca1dbc2",
   "metadata": {},
   "outputs": [],
   "source": [
    "#Drop duplicates and reset index\n",
    "def dd(df):\n",
    "    df = df.drop_duplicates().reset_index()\n",
    "    df.drop(columns=[\"index\"], inplace=True)\n",
    "    return df"
   ]
  },
  {
   "cell_type": "code",
   "execution_count": null,
   "id": "22a29528",
   "metadata": {},
   "outputs": [],
   "source": [
    "#Replacing null values\n",
    "def fill_null(df):\n",
    "    df[\"number_of_open_complaints\"] = df[\"number_of_open_complaints\"].fillna(value=0)\n",
    "    df[\"vehicle_type\"] = df[\"vehicle_type\"].fillna(value=\"M\")\n",
    "    mean_months = round(df[\"months_since_last_claim\"].mean())\n",
    "    df[\"months_since_last_claim\"] = df[\"months_since_last_claim\"].fillna(value=mean_months)\n",
    "    mean_income = round(df[\"income\"].mean())\n",
    "    df[\"income\"] = df[\"income\"].fillna(value=mean_income)\n",
    "    return df"
   ]
  },
  {
   "cell_type": "code",
   "execution_count": null,
   "id": "f595d038",
   "metadata": {},
   "outputs": [],
   "source": [
    "#Creating a months column for the effective_to_date column only\n",
    "def month_creation(df):\n",
    "    df['effective_to_date']=pd.to_datetime(df['effective_to_date'], errors='coerce') #turn from object to datetime format\n",
    "    df[\"month_effective_to_date\"]=list(map(lambda date:date.strftime(format=\"%B\"),df[\"effective_to_date\"]))\n",
    "    return(df)"
   ]
  },
  {
   "cell_type": "code",
   "execution_count": null,
   "id": "7de0f9a9",
   "metadata": {},
   "outputs": [],
   "source": [
    "# RUNNING THE (rest) OF THE PIPELINE (and at the end have 2 closer looks at it)"
   ]
  },
  {
   "cell_type": "code",
   "execution_count": null,
   "id": "61df97f4",
   "metadata": {},
   "outputs": [],
   "source": [
    "df = standardize(df)"
   ]
  },
  {
   "cell_type": "code",
   "execution_count": null,
   "id": "d00d7bc3",
   "metadata": {},
   "outputs": [],
   "source": [
    "df = month_creation(df)"
   ]
  },
  {
   "cell_type": "code",
   "execution_count": null,
   "id": "075ca5ed",
   "metadata": {},
   "outputs": [],
   "source": [
    "df= drop_2cols(df)"
   ]
  },
  {
   "cell_type": "code",
   "execution_count": null,
   "id": "b3d878c7",
   "metadata": {},
   "outputs": [],
   "source": [
    "df = dd(df)"
   ]
  },
  {
   "cell_type": "code",
   "execution_count": null,
   "id": "03de980f",
   "metadata": {},
   "outputs": [],
   "source": [
    "df = fill_null(df)"
   ]
  },
  {
   "cell_type": "code",
   "execution_count": null,
   "id": "e3871945",
   "metadata": {},
   "outputs": [],
   "source": [
    "df.info()"
   ]
  },
  {
   "cell_type": "code",
   "execution_count": null,
   "id": "d6a6e4ed",
   "metadata": {},
   "outputs": [],
   "source": [
    "df"
   ]
  },
  {
   "cell_type": "markdown",
   "id": "363bf9f5",
   "metadata": {},
   "source": [
    "### 3) NEW STUFF FROM MIDTERM\n",
    "-> http://localhost:8888/notebooks/Documents/GitHub/Iron_Midterm/Olist%20-%20Data%20Cleaning.ipynb"
   ]
  },
  {
   "cell_type": "code",
   "execution_count": null,
   "id": "2e7d1789",
   "metadata": {},
   "outputs": [],
   "source": [
    "# Activate the DB connection from SQL into Jupyter Notebook\n",
    "\n",
    "driver = 'mysql+pymysql'\n",
    "user = 'root'\n",
    "password = getpass.getpass(prompt='Your password:'\"\")\n",
    "ip = '127.0.0.1'\n",
    "\n",
    "connection_string = f'{driver}://{user}:{password}@{ip}'\n",
    "    \n",
    "db_connection = sa.create_engine(connection_string)\n",
    "\n",
    "insp = sa.inspect(db_connection)\n",
    "db_list = insp.get_schema_names()\n"
   ]
  },
  {
   "cell_type": "code",
   "execution_count": null,
   "id": "9f0e2c3d",
   "metadata": {},
   "outputs": [],
   "source": [
    "# Pull closed_deals column data from Schema Olist into Jupyter Notebook\n",
    "\n",
    "query = \"SELECT * FROM olist.closed_deals\"\n",
    "closed_deals = pd.read_sql_query(query, db_connection)"
   ]
  },
  {
   "cell_type": "code",
   "execution_count": null,
   "id": "771894db",
   "metadata": {},
   "outputs": [],
   "source": [
    "# change/reduce datetime: removal of time in the timestemp to speed up calculations (date remains)\n",
    "closed_deals[\"won_date\"] = pd.to_datetime(closed_deals[\"won_date\"]).dt.date"
   ]
  },
  {
   "cell_type": "code",
   "execution_count": null,
   "id": "e92cb942",
   "metadata": {},
   "outputs": [],
   "source": [
    "#to push back to workbench:\n",
    "closed_deals.to_sql(con=db_connection, schema='olist', name='closed_deals', if_exists='replace', index = False)"
   ]
  },
  {
   "cell_type": "code",
   "execution_count": null,
   "id": "c3d8d60d",
   "metadata": {},
   "outputs": [],
   "source": [
    "#seller_city one has a number in the cell and should actually be rio de janeiro: 04482255 -> Replace value with an other\n",
    "sellers = sellers.replace(to_replace='04482255', value = 'rio de janeiro')"
   ]
  },
  {
   "cell_type": "code",
   "execution_count": null,
   "id": "16a9e75e",
   "metadata": {},
   "outputs": [],
   "source": [
    "# add a new column called seller_state_name into the existing table on column position Nr. 4 with the same values as an other column (for now)\n",
    "seller_state_name = sellers.seller_state\n",
    "\n",
    "sellers.insert(loc=4,\n",
    "          column='seller_state_name',\n",
    "          value=seller_state_name)\n",
    "sellers.head(2)\n",
    "# function on the bottom shows the 2 first records of the new table"
   ]
  },
  {
   "cell_type": "code",
   "execution_count": null,
   "id": "a2ca93d1",
   "metadata": {},
   "outputs": [],
   "source": [
    "# Fill the new column with new values -> find and replace\n",
    "\n",
    "def full_name(x):\n",
    "    if not x == x:\n",
    "        return x\n",
    "    else:\n",
    "        name = {'RO': 'Rondônia', \n",
    "'AC': 'Acre', \n",
    "'AM': 'Amazonas', \n",
    "'RR': 'Roraima', \n",
    "'PA': 'Pará', \n",
    "'AP': 'Amapá', \n",
    "'TO': 'Tocantins', \n",
    "'MA': 'Maranhão', \n",
    "'PI': 'Piauí', \n",
    "'CE': 'Ceará', \n",
    "'RN': 'Rio Grande do Norte', \n",
    "'PB': 'Paraíba', \n",
    "'PE': 'Pernambuco', \n",
    "'AL': 'Alagoas', \n",
    "'SE': 'Sergipe', \n",
    "'BA': 'Bahia', \n",
    "'MG': 'Minas Gerais', \n",
    "'ES': 'Espírito Santo', \n",
    "'RJ': 'Rio de Janeiro', \n",
    "'SP': 'Sao Paulo', \n",
    "'PR': 'Paraná', \n",
    "'SC': 'Santa Catarina', \n",
    "'RS': 'Rio Grande do Sul', \n",
    "'MS': 'Mato Grosso do Sul', \n",
    "'MT': 'Mato Grosso', \n",
    "'GO': 'Goiás', \n",
    "'DF': 'Distrito Federal'}\n",
    "        return name[x]"
   ]
  },
  {
   "cell_type": "code",
   "execution_count": null,
   "id": "37aa0d5d",
   "metadata": {},
   "outputs": [],
   "source": [
    "# execute the renaming function abouve to the new column called seller_state_name\n",
    "sellers.seller_state_name = sellers.seller_state_name.apply(full_name)"
   ]
  },
  {
   "cell_type": "code",
   "execution_count": null,
   "id": "cb518f97",
   "metadata": {},
   "outputs": [],
   "source": [
    "#bucketing \"processing & approved, invoiced\"  as these orders have not been processed correctly: new name \"unprocessed\"; rename \"shipped\" \"lost_during_delivery\"\n",
    "\n",
    "orders.order_status[orders.order_status.isin([\"processing\",\"invoiced\", \"approved\"])] = \"unprocessed\"\n",
    "orders.order_status[orders.order_status.isin([\"shipped\"])] = \"lost_during_delivery\"\n",
    "orders.order_status.unique()\n",
    "# function on the bottom showsthe newly unique values in the order_status column"
   ]
  },
  {
   "cell_type": "code",
   "execution_count": null,
   "id": "2dbd2c08",
   "metadata": {},
   "outputs": [],
   "source": [
    "#change product_catgeory_name to english, whereas the was a lookup table, which we had to bring into a Dictionary format via Google Sheet\n",
    "\n",
    "def change_name(x):\n",
    "    if not x == x:\n",
    "        return x\n",
    "    else:\n",
    "        category = {\"beleza_saude\": \"health_beauty\",\n",
    "        \"informatica_acessorios\":\"computers_accessories\",\n",
    "        \"automotivo\":\"auto\",\n",
    "        \"cama_mesa_banho\":\"bed_bath_table\",\n",
    "        \"moveis_decoracao\":\"furniture_decor\",\n",
    "        \"esporte_lazer\":\"sports_leisure\",\n",
    "        \"perfumaria\":\"perfumery\",\n",
    "        \"utilidades_domesticas\":\"housewares\",\n",
    "        \"telefonia\":\"telephony\",\n",
    "        \"relogios_presentes\":\"watches_gifts\",\n",
    "        \"alimentos_bebidas\":\"food_drink\",\n",
    "        \"bebes\":\"baby\",\n",
    "        \"papelaria\":\"stationery\",\n",
    "        \"tablets_impressao_imagem\":\"tablets_printing_image\",\n",
    "        \"brinquedos\":\"toys\",\n",
    "        \"telefonia_fixa\":\"fixed_telephony\",\n",
    "        \"ferramentas_jardim\":\"garden_tools\",\n",
    "        \"fashion_bolsas_e_acessorios\":\"fashion_bags_accessories\",\n",
    "        \"eletroportateis\":\"small_appliances\",\n",
    "        \"consoles_games\":\"consoles_games\",\n",
    "        \"audio\":\"audio\",\n",
    "        \"fashion_calcados\":\"fashion_shoes\",\n",
    "        \"cool_stuff\":\"cool_stuff\",\n",
    "        \"malas_acessorios\":\"luggage_accessories\",\n",
    "        \"climatizacao\":\"air_conditioning\",\n",
    "        \"construcao_ferramentas_construcao\":\"construction_tools_construction\",\n",
    "        \"moveis_cozinha_area_de_servico_jantar_e_jardim\":\"kitchen_dining_laundry_garden_furniture\",\n",
    "        \"construcao_ferramentas_jardim\":\"costruction_tools_garden\",\n",
    "        \"fashion_roupa_masculina\":\"fashion_male_clothing\",\n",
    "        \"pet_shop\":\"pet_shop\",\n",
    "        \"moveis_escritorio\":\"office_furniture\",\n",
    "        \"market_place\":\"market_place\",\n",
    "        \"eletronicos\":\"electronics\",\n",
    "        \"eletrodomesticos\":\"home_appliances\",\n",
    "        \"artigos_de_festas\":\"party_supplies\",\n",
    "        \"casa_conforto\":\"home_confort\",\n",
    "        \"construcao_ferramentas_ferramentas\":\"costruction_tools_tools\",\n",
    "        \"agro_industria_e_comercio\":\"agro_industry_and_commerce\",\n",
    "        \"moveis_colchao_e_estofado\":\"furniture_mattress_and_upholstery\",\n",
    "        \"livros_tecnicos\":\"books_technical\",\n",
    "        \"casa_construcao\":\"home_construction\",\n",
    "        \"instrumentos_musicais\":\"musical_instruments\",\n",
    "        \"moveis_sala\":\"furniture_living_room\",\n",
    "        \"construcao_ferramentas_iluminacao\":\"construction_tools_lights\",\n",
    "        \"industria_comercio_e_negocios\":\"industry_commerce_and_business\",\n",
    "        \"alimentos\":\"food\",\n",
    "        \"artes\":\"art\",\n",
    "        \"moveis_quarto\":\"furniture_bedroom\",\n",
    "        \"livros_interesse_geral\":\"books_general_interest\",\n",
    "        \"construcao_ferramentas_seguranca\":\"construction_tools_safety\",\n",
    "        \"fashion_underwear_e_moda_praia\":\"fashion_underwear_beach\",\n",
    "        \"fashion_esporte\":\"fashion_sport\",\n",
    "        \"sinalizacao_e_seguranca\":\"signaling_and_security\",\n",
    "        \"pcs\":\"computers\",\n",
    "        \"artigos_de_natal\":\"christmas_supplies\",\n",
    "        \"fashion_roupa_feminina\":\"fashio_female_clothing\",\n",
    "        \"eletrodomesticos_2\":\"home_appliances_2\",\n",
    "        \"livros_importados\":\"books_imported\",\n",
    "        \"bebidas\":\"drinks\",\n",
    "        \"cine_foto\":\"cine_photo\",\n",
    "        \"la_cuisine\":\"la_cuisine\",\n",
    "        \"musica\":\"music\",\n",
    "        \"casa_conforto_2\":\"home_comfort_2\",\n",
    "        \"portateis_casa_forno_e_cafe\":\"small_appliances_home_oven_and_coffee\",\n",
    "        \"cds_dvds_musicais\":\"cds_dvds_musicals\",\n",
    "        \"dvds_blu_ray\":\"dvds_blu_ray\",\n",
    "        \"flores\":\"flowers\",\n",
    "        \"artes_e_artesanato\":\"arts_and_craftmanship\",\n",
    "        \"fraldas_higiene\":\"diapers_and_hygiene\",\n",
    "        \"fashion_roupa_infanto_juvenil\":\"fashion_childrens_clothes\",\n",
    "        \"seguros_e_servicos\":\"security_and_services\",\n",
    "         \"pc_gamer\":\"pc_gamer\", \n",
    "         \"portateis_cozinha_e_preparadores_de_alimentos\":\"kitchen_appliance\"}\n",
    "\n",
    "        return category[x]\n",
    "    "
   ]
  },
  {
   "cell_type": "code",
   "execution_count": null,
   "id": "b8034222",
   "metadata": {},
   "outputs": [],
   "source": [
    "#bucketing of the categories: from 73 to 21 buckets, making especially sure that nothing, even if no bucketing involved is missed out\n",
    "\n",
    "products.product_category_name[products.product_category_name.isin(['christmas_supplies','cool_stuff','party_supplies'])] = \"event_supplies\"\n",
    "products.product_category_name[products.product_category_name.isin(['bed_bath_table','furniture_bedroom','furniture_decor','furniture_living_room', 'furniture_mattress_and_upholstery', 'kitchen_dining_laundry_garden_furniture'])] = \"furniture\"\n",
    "products.product_category_name[products.product_category_name.isin(['art','arts_and_craftmanship'])] = \"arts\"  \n",
    "products.product_category_name[products.product_category_name.isin(['books_general_interest','books_imported', 'books_technical'])] = \"books\" \n",
    "products.product_category_name[products.product_category_name.isin(['cds_dvds_musicals','dvds_blu_ray','audio','music','musical_instruments'])] = \"video_audio_instruments\"  \n",
    "products.product_category_name[products.product_category_name.isin(['electronics', 'computers','computers_accessories','fixed_telephony','cine_photo','telephony'])] = \"electronics\"      \n",
    "products.product_category_name[products.product_category_name.isin(['construction_tools_lights', 'construction_tools_safety', 'costruction_tools_garden','costruction_tools_tools','construction_tools_construction','home_construction'])] = \"construction_tools\"                                \n",
    "products.product_category_name[products.product_category_name.isin(['fashio_female_clothing','fashion_bags_accessories','fashion_childrens_clothes','fashion_male_clothing','fashion_shoes','fashion_underwear_beach','luggage_accessories'])] = \"fashion\"   \n",
    "products.product_category_name[products.product_category_name.isin(['baby','diapers_and_hygiene'])] = \"baby\"                                 \n",
    "products.product_category_name[products.product_category_name.isin(['food','food_drink','drinks'])] = \"food_drinks\"                                                                 \n",
    "products.product_category_name[products.product_category_name.isin([\"kitchen_appliance\", \"small_appliances_home_oven_and_coffee\", \"la_cuisine\"])] = \"kitchen\"\n",
    "products.product_category_name[products.product_category_name.isin([\"perfumery\", \"health_beauty\"])] = \"health_beauty\"\n",
    "products.product_category_name[products.product_category_name.isin([\"security_and_services\", \"signaling_and_security\"])] = \"security\"\n",
    "products.product_category_name[products.product_category_name.isin([\"flowers\", \"garden_tools\", \"agro_industry_and_commerce\"])] = \"garden\"\n",
    "products.product_category_name[products.product_category_name.isin(['pet_shop'])] = \"pets\"\n",
    "products.product_category_name[products.product_category_name.isin([\"office_furniture\", \"industry_commerce_and_business\", \"stationery\", \"tablets_printing_image\"])] = \"office\"\n",
    "products.product_category_name[products.product_category_name.isin([\"pc_gamer\", \"consoles_games\", \"toys\"])] = \"games\"\n",
    "products.product_category_name[products.product_category_name.isin([\"small_appliances\", \"home_appliances\", \"home_appliances_2\", \"home_comfort_2\", \"home_confort\", \"housewares\", \"air_conditioning\"])] = \"home_appliances\"                               \n",
    "products.product_category_name[products.product_category_name.isin(['watches_gifts'])] = \"watches\"  \n",
    "products.product_category_name[products.product_category_name.isin(['fashion_sport','sports_leisure'])] = \"sports\""
   ]
  },
  {
   "cell_type": "code",
   "execution_count": null,
   "id": "723e51c2",
   "metadata": {},
   "outputs": [],
   "source": [
    "#### CLEANING DATA IN SQL\n",
    "\n",
    "#### Drop not needed table (just via right click in the schema section in Workbench or via code below)\n",
    "\n",
    "#Code:\n",
    "#drop table `order_status_year_price`\n",
    "#drop table `prod_cat_price`\n",
    "#drop table `product_category_name_translation`\n",
    "#drop table `geolocation`\n",
    "\n",
    "## Delete rows without value \n",
    "\n",
    "#in payment_type: delete rows where type = 'not_defined' as payment value of these three order = 0€\n",
    "#Code: delete from olist.order_payments where order_id in ('4637ca194b6387e2d538dc89b124b0ee','00b1cb0320190ca0daa2c88b35206009','c8c528189310eaa44a745b8d9d26908b')\n",
    "\n",
    "# in order_customer_items_paid delete rows with status \"shipped\" --> we have analysed that these order has been lost during delivery and most likely the customer git a refund\n",
    "#Code: delete from order_customer_items_paid where order_status in ('shipped')\n",
    "\n",
    "# data from september 2018 not complete, therfore we will delete this month\n",
    "#Code: delete from orders where order_purchase_timestamp > \"2018-09-01\";\n"
   ]
  },
  {
   "cell_type": "code",
   "execution_count": null,
   "id": "8dd9518a",
   "metadata": {},
   "outputs": [],
   "source": [
    "#### JOINING DATE IN SQL to INCREASE TABLEAU PERFORMANCE after LOADING IT IN THERE\n",
    "\n",
    "# CREATED a so called REVENUE_CUSTOMER Dashboard with all the relevant colums for all visualizations"
   ]
  },
  {
   "cell_type": "code",
   "execution_count": null,
   "id": "84060410",
   "metadata": {},
   "outputs": [],
   "source": [
    "# SELECT `orders`.`order_status`, `orders`.`order_purchase_timestamp`, `orders`.`order_approved_at`, `orders`.`order_delivered_carrier_date`, `orders`.`order_delivered_customer_date`, `orders`.`order_estimated_delivery_date`, `order_customer_items_paid`.`order_id`,\n",
    "#    `order_customer_items_paid`.`customer_city`,\n",
    "#    `order_customer_items_paid`.`customer_id`,\n",
    "#    `order_customer_items_paid`.`order_item_id`,\n",
    "#    `order_customer_items_paid`.`price`,\n",
    "#   `order_customer_items_paid`.`freight_value`,\n",
    "#    `order_customer_items_paid`.`final_price`,\n",
    "#    `customers`.`customer_zip_code_prefix`,\n",
    "#    `customers`.`customer_state`,\n",
    "#    `products`.`product_category_name`,\n",
    "#    `order_payments`.`payment_installments`,\n",
    "#    `order_payments`.`payment_type`,\n",
    "#    `customers`.`customer_state_name`,\n",
    "#    `order_items`.`seller_id`\n",
    "# FROM olist.orders\n",
    "# inner join `order_customer_items_paid`\n",
    "# using (order_id)\n",
    "# inner join customers\n",
    "# on `customers`.`customer_id` = `orders`.`customer_id`\n",
    "# inner join order_items\n",
    "# on `order_items`.`order_id` = `order_customer_items_paid`.`order_id`\n",
    "# inner join products\n",
    "# on `products`.`product_id` = `order_items`.`product_id`\n",
    "# inner join order_payments\n",
    "# on `order_payments`.`order_id` = `order_customer_items_paid`.`order_id`;"
   ]
  }
 ],
 "metadata": {
  "kernelspec": {
   "display_name": "Python 3",
   "language": "python",
   "name": "python3"
  },
  "language_info": {
   "codemirror_mode": {
    "name": "ipython",
    "version": 3
   },
   "file_extension": ".py",
   "mimetype": "text/x-python",
   "name": "python",
   "nbconvert_exporter": "python",
   "pygments_lexer": "ipython3",
   "version": "3.8.8"
  }
 },
 "nbformat": 4,
 "nbformat_minor": 5
}
