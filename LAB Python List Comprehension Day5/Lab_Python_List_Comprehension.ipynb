{
 "cells": [
  {
   "cell_type": "markdown",
   "id": "a836f789",
   "metadata": {},
   "source": [
    "# Lab Python List Comprehension"
   ]
  },
  {
   "cell_type": "markdown",
   "id": "0e09ac40",
   "metadata": {},
   "source": [
    "1. let's say we need to create a list of integers which specify the length of each word in a certain sentence, but only if the word is not the word \"the\"."
   ]
  },
  {
   "cell_type": "code",
   "execution_count": 6,
   "id": "ae10b087",
   "metadata": {},
   "outputs": [
    {
     "name": "stdout",
     "output_type": "stream",
     "text": [
      "['the', 'quick', 'brown', 'fox', 'jumps', 'over', 'the', 'lazy', 'dog']\n",
      "[5, 5, 3, 5, 4, 4, 3]\n"
     ]
    }
   ],
   "source": [
    "# a long string\n",
    "sentence = \"the quick brown fox jumps over the lazy dog\"\n",
    "\n",
    "\n",
    "#words: list of strings\n",
    "words = sentence.split()\n",
    "\n",
    "\n",
    "#create a new list\n",
    "word_lengths = []\n",
    "\n",
    "# for every string/item in the words list\n",
    "for word in words:\n",
    "# if that string/item is not equal to the string \"the\"\n",
    "      if word != \"the\":\n",
    "# then add the lenght of that string/item (in form of a number) to the newly created list called word_lenghts\n",
    "          word_lengths.append(len(word))\n",
    "\n",
    "# here the word is a placehoder because it changes every iteration (the, quick, brown etc.)        \n",
    "\n",
    "# execute on the different lists\n",
    "print(words)\n",
    "print(word_lengths)\n",
    "\n"
   ]
  },
  {
   "cell_type": "code",
   "execution_count": 5,
   "id": "3c4e34de",
   "metadata": {},
   "outputs": [],
   "source": [
    "test = ()"
   ]
  },
  {
   "cell_type": "code",
   "execution_count": 6,
   "id": "cf50090b",
   "metadata": {},
   "outputs": [
    {
     "data": {
      "text/plain": [
       "tuple"
      ]
     },
     "execution_count": 6,
     "metadata": {},
     "output_type": "execute_result"
    }
   ],
   "source": [
    "type(test)"
   ]
  },
  {
   "cell_type": "markdown",
   "id": "e65f8cf0",
   "metadata": {},
   "source": [
    "Using a list comprehension, we could simplify this process to this notation:"
   ]
  },
  {
   "cell_type": "code",
   "execution_count": 15,
   "id": "98d22960",
   "metadata": {},
   "outputs": [
    {
     "name": "stdout",
     "output_type": "stream",
     "text": [
      "[5, 5, 3, 5, 4, 4, 3]\n"
     ]
    }
   ],
   "source": [
    "####. Your Code here\n",
    "word_lenghts=[len(word) for word in words if word != \"the\"]\n",
    "# here len(word) is the placehoder / for is the loop and if is the condition part\n",
    "\n",
    "print(word_lenghts)"
   ]
  },
  {
   "cell_type": "markdown",
   "id": "4c099be7",
   "metadata": {},
   "source": [
    "2. Using a list comprehension, create a new list called \"newlist\" out of the list \"numbers\", which contains only the positive numbers AND only odd numbers from the list, as integers."
   ]
  },
  {
   "cell_type": "code",
   "execution_count": 16,
   "id": "5e97aca7",
   "metadata": {},
   "outputs": [
    {
     "data": {
      "text/plain": [
       "[34, 44, 15, 7, 19]"
      ]
     },
     "execution_count": 16,
     "metadata": {},
     "output_type": "execute_result"
    }
   ],
   "source": [
    "numbers = [34.6, -203, 44.9, 68, -12, 44, 12, 15,7,19]\n",
    "\n",
    "##### We need to iterate through all the numbers and apply a double condition and put it into an integer\n",
    "newlist=[int(number) for number in numbers if number>0 and number%2!=0]\n",
    "newlist\n",
    "\n",
    "\n",
    "# the reminder is % that is the sign und for odd oder ungerade numbers, the reminder is 1!"
   ]
  }
 ],
 "metadata": {
  "kernelspec": {
   "display_name": "Python 3",
   "language": "python",
   "name": "python3"
  },
  "language_info": {
   "codemirror_mode": {
    "name": "ipython",
    "version": 3
   },
   "file_extension": ".py",
   "mimetype": "text/x-python",
   "name": "python",
   "nbconvert_exporter": "python",
   "pygments_lexer": "ipython3",
   "version": "3.8.8"
  }
 },
 "nbformat": 4,
 "nbformat_minor": 5
}
