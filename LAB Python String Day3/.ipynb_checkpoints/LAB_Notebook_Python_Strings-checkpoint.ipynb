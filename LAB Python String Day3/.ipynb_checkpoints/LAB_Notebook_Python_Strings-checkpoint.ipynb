{
 "cells": [
  {
   "cell_type": "markdown",
   "metadata": {},
   "source": [
    "# Lab -Python Strings Operations"
   ]
  },
  {
   "cell_type": "markdown",
   "metadata": {},
   "source": [
    "# Challenge 1 - Combining Strings\n",
    "\n",
    "Combining strings is an important skill to acquire. There are multiple ways of combining strings in Python, as well as combining strings with variables. We will explore this in the first challenge. In the cell below, combine the strings in the list and add spaces between the strings (do not add a space after the last string). Insert a period after the last string."
   ]
  },
  {
   "cell_type": "code",
   "execution_count": null,
   "metadata": {},
   "outputs": [],
   "source": []
  },
  {
   "cell_type": "code",
   "execution_count": 67,
   "metadata": {
    "scrolled": false
   },
   "outputs": [
    {
     "name": "stdout",
     "output_type": "stream",
     "text": [
      " I am strengthening my programming skills in order to become a great Data Analyst \n",
      " I am strengthening my programming skills in order to become a great Data Analyst.\n"
     ]
    }
   ],
   "source": [
    "str_list = ['I', 'am', 'strengthening', 'my', 'programming', 'skills', 'in', 'order', 'to', 'become', 'a', 'great', 'Data','Analyst']\n",
    "# Your code here:\n",
    "\n",
    "# print(str(str_list))\n",
    "\n",
    "# def clean_list(s_list):\n",
    "    #clean_list = []\n",
    "    #for i in str_list:\n",
    "        #clean_list.append(i.replace(\",\", \"\"))\n",
    "    #return clean_list\n",
    "    \n",
    "# version from Rafa: \" \".join(str_list) + \".\"\n",
    "\n",
    "# below version from Bita with Looping\n",
    "\n",
    "\n",
    "a = \" \"\n",
    "for i in range(0,len(str_list)):\n",
    "    a = a + str(str_list[i]) + \" \"\n",
    "\n",
    "print(a)\n",
    "\n",
    "b = a[:-1] + \".\"\n",
    "print(b)\n",
    "\n",
    "#Raffa Idea\n",
    "#output=\"\"\n",
    "#for index in str_list:\n",
    "    \n",
    "    ##. append a space to the string as long as it is not the end of the string\n",
    "    #if(index!= len(str_list) output=str_list[index]+ \" \")\n",
    "\n",
    "    ## if I reach the end of the string please append the .\n",
    "    #else output=output+\".\""
   ]
  },
  {
   "cell_type": "code",
   "execution_count": 5,
   "metadata": {},
   "outputs": [
    {
     "data": {
      "text/plain": [
       "str"
      ]
     },
     "execution_count": 5,
     "metadata": {},
     "output_type": "execute_result"
    }
   ],
   "source": [
    "type(str(str_list))"
   ]
  },
  {
   "cell_type": "code",
   "execution_count": 58,
   "metadata": {},
   "outputs": [
    {
     "data": {
      "text/plain": [
       "str"
      ]
     },
     "execution_count": 58,
     "metadata": {},
     "output_type": "execute_result"
    }
   ],
   "source": [
    "type(a)"
   ]
  },
  {
   "cell_type": "code",
   "execution_count": 69,
   "metadata": {},
   "outputs": [
    {
     "name": "stdout",
     "output_type": "stream",
     "text": [
      "I\n",
      "am\n",
      "strengthening\n",
      "my\n",
      "programming\n",
      "skills\n",
      "in\n",
      "order\n",
      "to\n",
      "become\n",
      "a\n",
      "great\n",
      "Data\n",
      "Analyst\n"
     ]
    }
   ],
   "source": [
    "for i in range(0, len(str_list)):\n",
    "    print(str_list[i])"
   ]
  },
  {
   "cell_type": "code",
   "execution_count": 12,
   "metadata": {},
   "outputs": [
    {
     "data": {
      "text/plain": [
       "str"
      ]
     },
     "execution_count": 12,
     "metadata": {},
     "output_type": "execute_result"
    }
   ],
   "source": [
    "type(str_list[i])"
   ]
  },
  {
   "cell_type": "code",
   "execution_count": 19,
   "metadata": {},
   "outputs": [
    {
     "name": "stdout",
     "output_type": "stream",
     "text": [
      "I am strengthening my programming skills in order to become a great Data Analyst.\n"
     ]
    }
   ],
   "source": [
    "full_list = \" \".join(str_list)+ \".\"\n",
    "print(full_list)"
   ]
  },
  {
   "cell_type": "code",
   "execution_count": null,
   "metadata": {},
   "outputs": [],
   "source": [
    "join()"
   ]
  },
  {
   "cell_type": "markdown",
   "metadata": {},
   "source": [
    "In the cell below, use the list of strings to create a grocery list. Start the list with the string `Grocery list: ` and include a comma and a space between each item except for the last one. Include a period at the end. Only include foods in the list that start with the letter 'b' and ensure all foods are lower case."
   ]
  },
  {
   "cell_type": "code",
   "execution_count": 100,
   "metadata": {},
   "outputs": [
    {
     "data": {
      "text/plain": [
       "'Grocery List: bananas, bread, brownie mix, broccoli.'"
      ]
     },
     "execution_count": 100,
     "metadata": {},
     "output_type": "execute_result"
    }
   ],
   "source": [
    "food_list = ['Bananas', 'Chocolate', 'bread', 'diapers', 'Ice Cream', 'Brownie Mix', 'broccoli']\n",
    "\n",
    "# this are called list comprehension and is the right solution from Raffa\n",
    "\"Grocery List: \" + \", \".join([item.lower() for item in food_list if item.lower()[0]==\"b\"]) +\".\"\n",
    "\n"
   ]
  },
  {
   "cell_type": "code",
   "execution_count": 99,
   "metadata": {
    "scrolled": true
   },
   "outputs": [
    {
     "ename": "SyntaxError",
     "evalue": "invalid syntax (<ipython-input-99-a530c3465eec>, line 8)",
     "output_type": "error",
     "traceback": [
      "\u001b[1;36m  File \u001b[1;32m\"<ipython-input-99-a530c3465eec>\"\u001b[1;36m, line \u001b[1;32m8\u001b[0m\n\u001b[1;33m    s = s.join(for items in food_list if item [0]==\"b\")\u001b[0m\n\u001b[1;37m               ^\u001b[0m\n\u001b[1;31mSyntaxError\u001b[0m\u001b[1;31m:\u001b[0m invalid syntax\n"
     ]
    }
   ],
   "source": [
    "# trying with loop function\n",
    "# ensuring that a list is created coz .join can only work with lists\n",
    "\n",
    "s = []\n",
    "\n",
    "# dann mit loop (und nicht append arbeiten)\n",
    "\n",
    "s = s.join(for items in food_list if item [0]==\"b\")\n",
    "print(s)"
   ]
  },
  {
   "cell_type": "code",
   "execution_count": 103,
   "metadata": {},
   "outputs": [],
   "source": [
    "# tyring out some stuff!\n",
    "def clean_food_list(fruit_list):\n",
    "    clean_list = []\n",
    "    for fruit in fruit_list:\n",
    "        clean_list.append(fruit.replace(\"\", \"-\"))\n",
    "    return clean_list"
   ]
  },
  {
   "cell_type": "code",
   "execution_count": 104,
   "metadata": {},
   "outputs": [
    {
     "name": "stdout",
     "output_type": "stream",
     "text": [
      "['-B-a-n-a-n-a-s-', '-C-h-o-c-o-l-a-t-e-', '-b-r-e-a-d-', '-d-i-a-p-e-r-s-', '-I-c-e- -C-r-e-a-m-', '-B-r-o-w-n-i-e- -M-i-x-', '-b-r-o-c-c-o-l-i-']\n"
     ]
    }
   ],
   "source": [
    "fruits_clean = clean_food_list(food_list)\n",
    "\n",
    "print(fruits_clean)"
   ]
  },
  {
   "cell_type": "code",
   "execution_count": null,
   "metadata": {},
   "outputs": [],
   "source": [
    "# Old versions which did not function\n",
    "# me trying out with understanding the join function!\n",
    "# s = \" \"\n",
    "# s = s.join(for items in food_list if item[0]=\"b\") +\".\"\n",
    "# print(s)\n",
    "\n",
    "\n",
    "# our Result from yesterday\n",
    "#result = \" \"\n",
    "\n",
    "#for word in food_list:\n",
    "    #if word[0] == \"b\" or word[0] == \"B\":\n",
    "        #result += \", \" + word\n",
    "\n",
    "#print(result)"
   ]
  },
  {
   "cell_type": "markdown",
   "metadata": {},
   "source": [
    "In the cell below, compute the area of a circle using its radius and insert the radius and the area between `string1` and `string2`. Make sure to include spaces between the variable and the strings. \n",
    "\n",
    "Note: You can use the techniques we have learned so far or use f-strings. F-strings allow us to embed code inside strings. You can read more about f-strings [here](https://www.python.org/dev/peps/pep-0498/)."
   ]
  },
  {
   "cell_type": "code",
   "execution_count": 53,
   "metadata": {},
   "outputs": [],
   "source": [
    "## here we have different functions created for reusablity\n",
    "def area_of_the_circle(radius):\n",
    "    return round(math.pi * radius**2,1)\n",
    "\n",
    "## display the area of the circle \n",
    "def display_area_of_circle(area,radius, string1):\n",
    "    return f'{string1} {radius} is {(area)}'"
   ]
  },
  {
   "cell_type": "code",
   "execution_count": 54,
   "metadata": {},
   "outputs": [
    {
     "data": {
      "text/plain": [
       "'the area of the circle with radius: 4.5 is 63.6'"
      ]
     },
     "execution_count": 54,
     "metadata": {},
     "output_type": "execute_result"
    }
   ],
   "source": [
    "import math\n",
    "string1 = \"the area of the circle with radius:\"\n",
    "radius = 4.5\n",
    "display_area_of_circle(area_of_the_circle(radius), radius, string1)"
   ]
  },
  {
   "cell_type": "code",
   "execution_count": 98,
   "metadata": {},
   "outputs": [
    {
     "name": "stdout",
     "output_type": "stream",
     "text": [
      "The area of the circle with radius: 4.5 is: 63.6\n"
     ]
    }
   ],
   "source": [
    "import math\n",
    "\n",
    "string1 = \"The area of the circle with radius:\"\n",
    "string2  = \"is:\"\n",
    "radius = 4.5\n",
    "pi = math.pi\n",
    "\n",
    "area= pi * radius**2\n",
    "\n",
    "def answer():\n",
    "    print(string1, radius,string2,round(area,1))\n",
    "    \n",
    "answer()\n",
    "\n",
    "\n",
    "# the answer of Rafa\n",
    "# f'{string1}{radius} is {round(area,2)}'"
   ]
  },
  {
   "cell_type": "markdown",
   "metadata": {},
   "source": [
    "# Challenge 2 - Splitting Strings\n",
    "\n",
    "We have first looked at combining strings into one long string. There are times where we need to do the opposite and split the string into smaller components for further analysis. \n",
    "\n",
    "In the cell below, split the string into a list of strings using the space delimiter. Count the frequency of each word in the string in a dictionary. Strip the periods, line breaks and commas from the text. Make sure to remove empty strings from your dictionary."
   ]
  },
  {
   "cell_type": "code",
   "execution_count": 5,
   "metadata": {},
   "outputs": [],
   "source": [
    "poem = \"\"\"Some say the world will end in fire,\n",
    "Some say in ice.\n",
    "From what I’ve tasted of desire\n",
    "I hold with those who favor fire.\n",
    "But if it had to perish twice,\n",
    "I think I know enough of hate\n",
    "To say that for destruction ice\n",
    "Is also great\n",
    "And would suffice.\"\"\"\n",
    "\n",
    "# Your code here:\n",
    "\n",
    "\n"
   ]
  },
  {
   "cell_type": "code",
   "execution_count": 124,
   "metadata": {},
   "outputs": [],
   "source": [
    "#  reduce the poem first and so we can test it\n",
    "\n",
    "poem=\"hello world Hello World\\n Roland Lars Julia, Lars Julia Diana Ronald Diana.\""
   ]
  },
  {
   "cell_type": "code",
   "execution_count": 122,
   "metadata": {},
   "outputs": [
    {
     "data": {
      "text/plain": [
       "'hello world Hello World\\n Roland Lars Julia Lars Julia Diana Ronald Diana'"
      ]
     },
     "execution_count": 122,
     "metadata": {},
     "output_type": "execute_result"
    }
   ],
   "source": [
    "# Strip the periods\n",
    "poem.replace(\".\",\"\")"
   ]
  },
  {
   "cell_type": "code",
   "execution_count": 140,
   "metadata": {},
   "outputs": [
    {
     "data": {
      "text/plain": [
       "'hello world Hello World  Roland Lars Julia, Lars Julia Diana Ronald Diana.'"
      ]
     },
     "execution_count": 140,
     "metadata": {},
     "output_type": "execute_result"
    }
   ],
   "source": [
    "# Getting rid of line breaks\n",
    "poem.replace(\"\\n\",\" \")"
   ]
  },
  {
   "cell_type": "code",
   "execution_count": 113,
   "metadata": {
    "scrolled": true
   },
   "outputs": [
    {
     "data": {
      "text/plain": [
       "['hello',\n",
       " 'world',\n",
       " 'Hello',\n",
       " 'World',\n",
       " 'Roland',\n",
       " 'Lars',\n",
       " 'Julia',\n",
       " 'Lars',\n",
       " 'Julia',\n",
       " 'Diana',\n",
       " 'Ronald',\n",
       " 'Diana']"
      ]
     },
     "execution_count": 113,
     "metadata": {},
     "output_type": "execute_result"
    }
   ],
   "source": [
    "# splitting the string into sub strings with space delimeter\n",
    "poem.split(\" \")"
   ]
  },
  {
   "cell_type": "code",
   "execution_count": 125,
   "metadata": {},
   "outputs": [
    {
     "data": {
      "text/plain": [
       "'hello world Hello World\\n Roland Lars Julia Lars Julia Diana Ronald Diana.'"
      ]
     },
     "execution_count": 125,
     "metadata": {},
     "output_type": "execute_result"
    }
   ],
   "source": [
    "# Getting rid of commas\n",
    "\n",
    "poem.replace(\",\",\"\")"
   ]
  },
  {
   "cell_type": "code",
   "execution_count": 142,
   "metadata": {},
   "outputs": [
    {
     "data": {
      "text/plain": [
       "'hello world hello world  roland lars julia, lars julia diana ronald diana'"
      ]
     },
     "execution_count": 142,
     "metadata": {},
     "output_type": "execute_result"
    }
   ],
   "source": [
    "# merge all the above data cleaning problems together on the original piece\n",
    "\n",
    "poem.replace(\".\",\"\").replace(\"\\n\",\" \").replace(\".\",\"\")\n",
    "\n",
    "# to also put everything in lower spaces make\n",
    "poem.replace(\".\",\"\").replace(\"\\n\",\" \").replace(\".\",\"\").lower()"
   ]
  },
  {
   "cell_type": "code",
   "execution_count": 128,
   "metadata": {},
   "outputs": [],
   "source": [
    "poem2=\"Hello world Hello World Diana Julia Lars Diana Lars Ronald Diana\""
   ]
  },
  {
   "cell_type": "code",
   "execution_count": null,
   "metadata": {},
   "outputs": [],
   "source": [
    "#Expected End Result for poem2\n",
    "## Count the frequency of each word in the string in a dictionary -> very tricky, so we started with the easier stuff above\n",
    "## for each word in the words list, please count the frequency of this word -> this is basically the function\n",
    "{\"Hello\":2, \"world\":2, \"Diana\":3, \"Julia\":1, \"Lars\":2, \"Roland\":1 }"
   ]
  },
  {
   "cell_type": "code",
   "execution_count": 131,
   "metadata": {},
   "outputs": [
    {
     "data": {
      "text/plain": [
       "2"
      ]
     },
     "execution_count": 131,
     "metadata": {},
     "output_type": "execute_result"
    }
   ],
   "source": [
    "# ZENTRAL MIT GUTER ERKlÄRUNG\n",
    "# Building now the function for the above\n",
    "## count the frequency of a word in a string with the input word in a sentence list and return the count of the word\n",
    "def word_freq(word,sentence):\n",
    "    return sentence.count(word)\n",
    "    \n",
    "# here you call the above function for an actual list called poem2 and there you see how many times Hello is in there\n",
    "word_freq(\"Hello\",poem2)"
   ]
  },
  {
   "cell_type": "code",
   "execution_count": 134,
   "metadata": {},
   "outputs": [
    {
     "name": "stdout",
     "output_type": "stream",
     "text": [
      "the frequency of the word Hello is: 2\n",
      "the frequency of the word world is: 1\n",
      "the frequency of the word Hello is: 2\n",
      "the frequency of the word World is: 1\n",
      "the frequency of the word Diana is: 3\n",
      "the frequency of the word Julia is: 1\n",
      "the frequency of the word Lars is: 2\n",
      "the frequency of the word Diana is: 3\n",
      "the frequency of the word Lars is: 2\n",
      "the frequency of the word Ronald is: 1\n",
      "the frequency of the word Diana is: 3\n"
     ]
    }
   ],
   "source": [
    "# now we combine the spitting the string into sub strings with space delimeter -> solved above already and\n",
    "# and the counting of frequency of the words\n",
    "\n",
    "for word in poem2.split(\" \"):\n",
    "    print(\"the frequency of the word \" + str(word) +\" is: \" +str(word_freq(word, poem2.split(\" \"))))"
   ]
  },
  {
   "cell_type": "code",
   "execution_count": 144,
   "metadata": {},
   "outputs": [
    {
     "data": {
      "text/plain": [
       "{'Hello': 2,\n",
       " 'world': 1,\n",
       " 'World': 1,\n",
       " 'Diana': 3,\n",
       " 'Julia': 1,\n",
       " 'Lars': 2,\n",
       " 'Ronald': 1}"
      ]
     },
     "execution_count": 144,
     "metadata": {},
     "output_type": "execute_result"
    }
   ],
   "source": [
    "# create the word frequency in a dictionary with the word being the key and the frequency is the value\n",
    "\n",
    "words_freq_dict={}\n",
    "for word in poem2.split(\" \"):\n",
    "    words_freq_dict[word]=word_freq(word, poem2.split(\" \"))\n",
    "\n",
    "words_freq_dict\n",
    "\n",
    "\n",
    "\n"
   ]
  },
  {
   "cell_type": "code",
   "execution_count": null,
   "metadata": {},
   "outputs": [],
   "source": [
    "# Now also add the data cleaning -> RAFFA WOULD SHARE His CODE!\n",
    "\n",
    "words_freq_dict={}\n",
    "cleaned_words_list=poem2.replace(\".\",\"\").replace(\"\\n\",\" \").replace(\".\",\"\")\n",
    "for word in cleand_words_list:\n",
    "    if(words)\n",
    "    words_freq_dict[word]=word_freq(word, poem2.split(\" \"))\n",
    "\n",
    "words_freq_dict\n",
    "\n"
   ]
  },
  {
   "cell_type": "markdown",
   "metadata": {},
   "source": [
    "In the cell below, find all the words that appear in the text and do not appear in the blacklist. You must parse the string but can choose any data structure you wish for the words that do not appear in the blacklist. Remove all non letter characters and convert all words to lower case."
   ]
  },
  {
   "cell_type": "code",
   "execution_count": 6,
   "metadata": {},
   "outputs": [],
   "source": [
    "blacklist = ['and', 'as', 'an', 'a', 'the', 'in', 'it']\n",
    "\n",
    "poem = \"\"\"I was angry with my friend; \n",
    "I told my wrath, my wrath did end.\n",
    "I was angry with my foe: \n",
    "I told it not, my wrath did grow. \n",
    "\n",
    "And I waterd it in fears,\n",
    "Night & morning with my tears: \n",
    "And I sunned it with smiles,\n",
    "And with soft deceitful wiles. \n",
    "\n",
    "And it grew both day and night. \n",
    "Till it bore an apple bright. \n",
    "And my foe beheld it shine,\n",
    "And he knew that it was mine. \n",
    "\n",
    "And into my garden stole, \n",
    "When the night had veild the pole; \n",
    "In the morning glad I see; \n",
    "My foe outstretched beneath the tree.\"\"\"\n",
    "\n",
    "# Your code here:"
   ]
  }
 ],
 "metadata": {
  "file_extension": ".py",
  "kernelspec": {
   "display_name": "Python 3",
   "language": "python",
   "name": "python3"
  },
  "language_info": {
   "codemirror_mode": {
    "name": "ipython",
    "version": 3
   },
   "file_extension": ".py",
   "mimetype": "text/x-python",
   "name": "python",
   "nbconvert_exporter": "python",
   "pygments_lexer": "ipython3",
   "version": "3.8.8"
  },
  "mimetype": "text/x-python",
  "name": "python",
  "npconvert_exporter": "python",
  "pygments_lexer": "ipython3",
  "version": 3
 },
 "nbformat": 4,
 "nbformat_minor": 2
}
