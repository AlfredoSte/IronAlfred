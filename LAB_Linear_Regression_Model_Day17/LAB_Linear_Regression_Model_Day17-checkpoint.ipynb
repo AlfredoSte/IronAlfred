{
 "cells": [
  {
   "cell_type": "code",
   "execution_count": 135,
   "id": "00087fd3",
   "metadata": {},
   "outputs": [],
   "source": [
    "#libraries\n",
    "import matplotlib.pyplot as plt\n",
    "from matplotlib.collections import LineCollection\n",
    "%matplotlib inline\n",
    "from numpy import random\n",
    "import seaborn as sns\n",
    "import pandas as pd\n",
    "import numpy as np\n",
    "import scipy as sc\n",
    "from ipywidgets import interactive\n",
    "import ipywidgets as widgets\n",
    "from sklearn.metrics import mean_squared_error, r2_score"
   ]
  },
  {
   "cell_type": "code",
   "execution_count": 2,
   "id": "26458fbf",
   "metadata": {},
   "outputs": [],
   "source": [
    "#Function for reading the data:\n",
    "def read_customer_data():\n",
    "    return pd.read_csv(\"Data_Marketing_Customer_Analysis_Round2.csv\")"
   ]
  },
  {
   "cell_type": "code",
   "execution_count": 4,
   "id": "b9e65707",
   "metadata": {},
   "outputs": [],
   "source": [
    "df = read_customer_data()"
   ]
  },
  {
   "cell_type": "code",
   "execution_count": 11,
   "id": "8d6fcd72",
   "metadata": {},
   "outputs": [
    {
     "data": {
      "text/plain": [
       "['Unnamed: 0',\n",
       " 'Customer',\n",
       " 'State',\n",
       " 'Customer Lifetime Value',\n",
       " 'Response',\n",
       " 'Coverage',\n",
       " 'Education',\n",
       " 'Effective To Date',\n",
       " 'EmploymentStatus',\n",
       " 'Gender',\n",
       " 'Income',\n",
       " 'Location Code',\n",
       " 'Marital Status',\n",
       " 'Monthly Premium Auto',\n",
       " 'Months Since Last Claim',\n",
       " 'Months Since Policy Inception',\n",
       " 'Number of Open Complaints',\n",
       " 'Number of Policies',\n",
       " 'Policy Type',\n",
       " 'Policy',\n",
       " 'Renew Offer Type',\n",
       " 'Sales Channel',\n",
       " 'Total Claim Amount',\n",
       " 'Vehicle Class',\n",
       " 'Vehicle Size',\n",
       " 'Vehicle Type']"
      ]
     },
     "execution_count": 11,
     "metadata": {},
     "output_type": "execute_result"
    }
   ],
   "source": [
    "list(df)"
   ]
  },
  {
   "cell_type": "code",
   "execution_count": 13,
   "id": "81fd4102",
   "metadata": {},
   "outputs": [],
   "source": [
    "#Function for standardizing column names:\n",
    "def standardize(df):\n",
    "    new_columns = df.columns.str.lower().str.replace(\" \", \"_\")\n",
    "    df.columns = new_columns\n",
    "    return df"
   ]
  },
  {
   "cell_type": "code",
   "execution_count": 14,
   "id": "e278810d",
   "metadata": {},
   "outputs": [],
   "source": [
    "#Function for dropping customer and unnamed:_0 columns\n",
    "def drop_2cols(df):\n",
    "    df.drop(columns=[\"unnamed:_0\", \"customer\"], inplace=True)\n",
    "    return df"
   ]
  },
  {
   "cell_type": "code",
   "execution_count": 15,
   "id": "d5a0a2ec",
   "metadata": {},
   "outputs": [],
   "source": [
    "#Drop duplicates and reset index\n",
    "def dd(df):\n",
    "    df = df.drop_duplicates().reset_index()\n",
    "    df.drop(columns=[\"index\"], inplace=True)\n",
    "    return df"
   ]
  },
  {
   "cell_type": "code",
   "execution_count": 30,
   "id": "47ccd950",
   "metadata": {},
   "outputs": [],
   "source": [
    "#Replacing null values\n",
    "def fill_null(df):\n",
    "    df[\"number_of_open_complaints\"] = df[\"number_of_open_complaints\"].fillna(value=0)\n",
    "    df[\"vehicle_type\"] = df[\"vehicle_type\"].fillna(value=\"M\")\n",
    "    mean_months = round(df[\"months_since_last_claim\"].mean())\n",
    "    df[\"months_since_last_claim\"] = df[\"months_since_last_claim\"].fillna(value=mean_months)\n",
    "    mean_income = round(df[\"income\"].mean())\n",
    "    df[\"income\"] = df[\"income\"].fillna(value=mean_income)\n",
    "    return df"
   ]
  },
  {
   "cell_type": "markdown",
   "id": "bcfe4ef5",
   "metadata": {},
   "source": [
    "### Running the rest of the Pipeline"
   ]
  },
  {
   "cell_type": "code",
   "execution_count": 20,
   "id": "6eb239b9",
   "metadata": {},
   "outputs": [
    {
     "name": "stdout",
     "output_type": "stream",
     "text": [
      "<class 'pandas.core.frame.DataFrame'>\n",
      "RangeIndex: 10910 entries, 0 to 10909\n",
      "Data columns (total 26 columns):\n",
      " #   Column                         Non-Null Count  Dtype  \n",
      "---  ------                         --------------  -----  \n",
      " 0   unnamed:_0                     10910 non-null  int64  \n",
      " 1   customer                       10910 non-null  object \n",
      " 2   state                          10279 non-null  object \n",
      " 3   customer_lifetime_value        10910 non-null  float64\n",
      " 4   response                       10279 non-null  object \n",
      " 5   coverage                       10910 non-null  object \n",
      " 6   education                      10910 non-null  object \n",
      " 7   effective_to_date              10910 non-null  object \n",
      " 8   employmentstatus               10910 non-null  object \n",
      " 9   gender                         10910 non-null  object \n",
      " 10  income                         10910 non-null  int64  \n",
      " 11  location_code                  10910 non-null  object \n",
      " 12  marital_status                 10910 non-null  object \n",
      " 13  monthly_premium_auto           10910 non-null  int64  \n",
      " 14  months_since_last_claim        10277 non-null  float64\n",
      " 15  months_since_policy_inception  10910 non-null  int64  \n",
      " 16  number_of_open_complaints      10277 non-null  float64\n",
      " 17  number_of_policies             10910 non-null  int64  \n",
      " 18  policy_type                    10910 non-null  object \n",
      " 19  policy                         10910 non-null  object \n",
      " 20  renew_offer_type               10910 non-null  object \n",
      " 21  sales_channel                  10910 non-null  object \n",
      " 22  total_claim_amount             10910 non-null  float64\n",
      " 23  vehicle_class                  10288 non-null  object \n",
      " 24  vehicle_size                   10288 non-null  object \n",
      " 25  vehicle_type                   5428 non-null   object \n",
      "dtypes: float64(4), int64(5), object(17)\n",
      "memory usage: 2.2+ MB\n"
     ]
    }
   ],
   "source": [
    "df = standardize(df)\n",
    "df.info()"
   ]
  },
  {
   "cell_type": "code",
   "execution_count": 21,
   "id": "469431fe",
   "metadata": {},
   "outputs": [],
   "source": [
    "df= drop_2cols(df)"
   ]
  },
  {
   "cell_type": "code",
   "execution_count": 22,
   "id": "007668b4",
   "metadata": {},
   "outputs": [],
   "source": [
    "df = dd(df)"
   ]
  },
  {
   "cell_type": "code",
   "execution_count": 31,
   "id": "f9451860",
   "metadata": {},
   "outputs": [],
   "source": [
    "df = fill_null(df)"
   ]
  },
  {
   "cell_type": "code",
   "execution_count": 32,
   "id": "ba8de32c",
   "metadata": {},
   "outputs": [
    {
     "data": {
      "text/html": [
       "<div>\n",
       "<style scoped>\n",
       "    .dataframe tbody tr th:only-of-type {\n",
       "        vertical-align: middle;\n",
       "    }\n",
       "\n",
       "    .dataframe tbody tr th {\n",
       "        vertical-align: top;\n",
       "    }\n",
       "\n",
       "    .dataframe thead th {\n",
       "        text-align: right;\n",
       "    }\n",
       "</style>\n",
       "<table border=\"1\" class=\"dataframe\">\n",
       "  <thead>\n",
       "    <tr style=\"text-align: right;\">\n",
       "      <th></th>\n",
       "      <th>state</th>\n",
       "      <th>customer_lifetime_value</th>\n",
       "      <th>response</th>\n",
       "      <th>coverage</th>\n",
       "      <th>education</th>\n",
       "      <th>effective_to_date</th>\n",
       "      <th>employmentstatus</th>\n",
       "      <th>gender</th>\n",
       "      <th>income</th>\n",
       "      <th>location_code</th>\n",
       "      <th>...</th>\n",
       "      <th>number_of_open_complaints</th>\n",
       "      <th>number_of_policies</th>\n",
       "      <th>policy_type</th>\n",
       "      <th>policy</th>\n",
       "      <th>renew_offer_type</th>\n",
       "      <th>sales_channel</th>\n",
       "      <th>total_claim_amount</th>\n",
       "      <th>vehicle_class</th>\n",
       "      <th>vehicle_size</th>\n",
       "      <th>vehicle_type</th>\n",
       "    </tr>\n",
       "  </thead>\n",
       "  <tbody>\n",
       "    <tr>\n",
       "      <th>0</th>\n",
       "      <td>Arizona</td>\n",
       "      <td>4809.216960</td>\n",
       "      <td>No</td>\n",
       "      <td>Basic</td>\n",
       "      <td>College</td>\n",
       "      <td>2/18/11</td>\n",
       "      <td>Employed</td>\n",
       "      <td>M</td>\n",
       "      <td>48029</td>\n",
       "      <td>Suburban</td>\n",
       "      <td>...</td>\n",
       "      <td>0.0</td>\n",
       "      <td>9</td>\n",
       "      <td>Corporate Auto</td>\n",
       "      <td>Corporate L3</td>\n",
       "      <td>Offer3</td>\n",
       "      <td>Agent</td>\n",
       "      <td>292.800000</td>\n",
       "      <td>Four-Door Car</td>\n",
       "      <td>Medsize</td>\n",
       "      <td>M</td>\n",
       "    </tr>\n",
       "    <tr>\n",
       "      <th>1</th>\n",
       "      <td>California</td>\n",
       "      <td>2228.525238</td>\n",
       "      <td>No</td>\n",
       "      <td>Basic</td>\n",
       "      <td>College</td>\n",
       "      <td>1/18/11</td>\n",
       "      <td>Unemployed</td>\n",
       "      <td>F</td>\n",
       "      <td>0</td>\n",
       "      <td>Suburban</td>\n",
       "      <td>...</td>\n",
       "      <td>0.0</td>\n",
       "      <td>1</td>\n",
       "      <td>Personal Auto</td>\n",
       "      <td>Personal L3</td>\n",
       "      <td>Offer4</td>\n",
       "      <td>Call Center</td>\n",
       "      <td>744.924331</td>\n",
       "      <td>Four-Door Car</td>\n",
       "      <td>Medsize</td>\n",
       "      <td>M</td>\n",
       "    </tr>\n",
       "    <tr>\n",
       "      <th>2</th>\n",
       "      <td>Washington</td>\n",
       "      <td>14947.917300</td>\n",
       "      <td>No</td>\n",
       "      <td>Basic</td>\n",
       "      <td>Bachelor</td>\n",
       "      <td>2/10/11</td>\n",
       "      <td>Employed</td>\n",
       "      <td>M</td>\n",
       "      <td>22139</td>\n",
       "      <td>Suburban</td>\n",
       "      <td>...</td>\n",
       "      <td>0.0</td>\n",
       "      <td>2</td>\n",
       "      <td>Personal Auto</td>\n",
       "      <td>Personal L3</td>\n",
       "      <td>Offer3</td>\n",
       "      <td>Call Center</td>\n",
       "      <td>480.000000</td>\n",
       "      <td>SUV</td>\n",
       "      <td>Medsize</td>\n",
       "      <td>A</td>\n",
       "    </tr>\n",
       "    <tr>\n",
       "      <th>3</th>\n",
       "      <td>Oregon</td>\n",
       "      <td>22332.439460</td>\n",
       "      <td>Yes</td>\n",
       "      <td>Extended</td>\n",
       "      <td>College</td>\n",
       "      <td>1/11/11</td>\n",
       "      <td>Employed</td>\n",
       "      <td>M</td>\n",
       "      <td>49078</td>\n",
       "      <td>Suburban</td>\n",
       "      <td>...</td>\n",
       "      <td>0.0</td>\n",
       "      <td>2</td>\n",
       "      <td>Corporate Auto</td>\n",
       "      <td>Corporate L3</td>\n",
       "      <td>Offer2</td>\n",
       "      <td>Branch</td>\n",
       "      <td>484.013411</td>\n",
       "      <td>Four-Door Car</td>\n",
       "      <td>Medsize</td>\n",
       "      <td>A</td>\n",
       "    </tr>\n",
       "    <tr>\n",
       "      <th>4</th>\n",
       "      <td>Oregon</td>\n",
       "      <td>9025.067525</td>\n",
       "      <td>No</td>\n",
       "      <td>Premium</td>\n",
       "      <td>Bachelor</td>\n",
       "      <td>1/17/11</td>\n",
       "      <td>Medical Leave</td>\n",
       "      <td>F</td>\n",
       "      <td>23675</td>\n",
       "      <td>Suburban</td>\n",
       "      <td>...</td>\n",
       "      <td>0.0</td>\n",
       "      <td>7</td>\n",
       "      <td>Personal Auto</td>\n",
       "      <td>Personal L2</td>\n",
       "      <td>Offer1</td>\n",
       "      <td>Branch</td>\n",
       "      <td>707.925645</td>\n",
       "      <td>Four-Door Car</td>\n",
       "      <td>Medsize</td>\n",
       "      <td>M</td>\n",
       "    </tr>\n",
       "    <tr>\n",
       "      <th>...</th>\n",
       "      <td>...</td>\n",
       "      <td>...</td>\n",
       "      <td>...</td>\n",
       "      <td>...</td>\n",
       "      <td>...</td>\n",
       "      <td>...</td>\n",
       "      <td>...</td>\n",
       "      <td>...</td>\n",
       "      <td>...</td>\n",
       "      <td>...</td>\n",
       "      <td>...</td>\n",
       "      <td>...</td>\n",
       "      <td>...</td>\n",
       "      <td>...</td>\n",
       "      <td>...</td>\n",
       "      <td>...</td>\n",
       "      <td>...</td>\n",
       "      <td>...</td>\n",
       "      <td>...</td>\n",
       "      <td>...</td>\n",
       "      <td>...</td>\n",
       "    </tr>\n",
       "    <tr>\n",
       "      <th>10771</th>\n",
       "      <td>Nevada</td>\n",
       "      <td>15563.369440</td>\n",
       "      <td>No</td>\n",
       "      <td>Premium</td>\n",
       "      <td>Bachelor</td>\n",
       "      <td>1/19/11</td>\n",
       "      <td>Unemployed</td>\n",
       "      <td>F</td>\n",
       "      <td>0</td>\n",
       "      <td>Suburban</td>\n",
       "      <td>...</td>\n",
       "      <td>0.0</td>\n",
       "      <td>7</td>\n",
       "      <td>Personal Auto</td>\n",
       "      <td>Personal L1</td>\n",
       "      <td>Offer3</td>\n",
       "      <td>Web</td>\n",
       "      <td>1214.400000</td>\n",
       "      <td>Luxury Car</td>\n",
       "      <td>Medsize</td>\n",
       "      <td>A</td>\n",
       "    </tr>\n",
       "    <tr>\n",
       "      <th>10772</th>\n",
       "      <td>Oregon</td>\n",
       "      <td>5259.444853</td>\n",
       "      <td>No</td>\n",
       "      <td>Basic</td>\n",
       "      <td>College</td>\n",
       "      <td>1/6/11</td>\n",
       "      <td>Employed</td>\n",
       "      <td>F</td>\n",
       "      <td>61146</td>\n",
       "      <td>Urban</td>\n",
       "      <td>...</td>\n",
       "      <td>0.0</td>\n",
       "      <td>6</td>\n",
       "      <td>Personal Auto</td>\n",
       "      <td>Personal L3</td>\n",
       "      <td>Offer2</td>\n",
       "      <td>Branch</td>\n",
       "      <td>273.018929</td>\n",
       "      <td>Four-Door Car</td>\n",
       "      <td>Medsize</td>\n",
       "      <td>A</td>\n",
       "    </tr>\n",
       "    <tr>\n",
       "      <th>10773</th>\n",
       "      <td>Arizona</td>\n",
       "      <td>23893.304100</td>\n",
       "      <td>No</td>\n",
       "      <td>Extended</td>\n",
       "      <td>Bachelor</td>\n",
       "      <td>2/6/11</td>\n",
       "      <td>Employed</td>\n",
       "      <td>F</td>\n",
       "      <td>39837</td>\n",
       "      <td>Rural</td>\n",
       "      <td>...</td>\n",
       "      <td>0.0</td>\n",
       "      <td>2</td>\n",
       "      <td>Corporate Auto</td>\n",
       "      <td>Corporate L3</td>\n",
       "      <td>Offer1</td>\n",
       "      <td>Web</td>\n",
       "      <td>381.306996</td>\n",
       "      <td>Luxury SUV</td>\n",
       "      <td>Medsize</td>\n",
       "      <td>M</td>\n",
       "    </tr>\n",
       "    <tr>\n",
       "      <th>10774</th>\n",
       "      <td>California</td>\n",
       "      <td>11971.977650</td>\n",
       "      <td>No</td>\n",
       "      <td>Premium</td>\n",
       "      <td>College</td>\n",
       "      <td>2/13/11</td>\n",
       "      <td>Employed</td>\n",
       "      <td>F</td>\n",
       "      <td>64195</td>\n",
       "      <td>Urban</td>\n",
       "      <td>...</td>\n",
       "      <td>4.0</td>\n",
       "      <td>6</td>\n",
       "      <td>Personal Auto</td>\n",
       "      <td>Personal L1</td>\n",
       "      <td>Offer1</td>\n",
       "      <td>Branch</td>\n",
       "      <td>618.288849</td>\n",
       "      <td>SUV</td>\n",
       "      <td>Medsize</td>\n",
       "      <td>A</td>\n",
       "    </tr>\n",
       "    <tr>\n",
       "      <th>10775</th>\n",
       "      <td>NaN</td>\n",
       "      <td>6857.519928</td>\n",
       "      <td>NaN</td>\n",
       "      <td>Basic</td>\n",
       "      <td>Bachelor</td>\n",
       "      <td>1/8/11</td>\n",
       "      <td>Unemployed</td>\n",
       "      <td>M</td>\n",
       "      <td>0</td>\n",
       "      <td>Suburban</td>\n",
       "      <td>...</td>\n",
       "      <td>0.0</td>\n",
       "      <td>3</td>\n",
       "      <td>Personal Auto</td>\n",
       "      <td>Personal L1</td>\n",
       "      <td>Offer4</td>\n",
       "      <td>Web</td>\n",
       "      <td>1021.719397</td>\n",
       "      <td>SUV</td>\n",
       "      <td>Medsize</td>\n",
       "      <td>M</td>\n",
       "    </tr>\n",
       "  </tbody>\n",
       "</table>\n",
       "<p>10776 rows × 24 columns</p>\n",
       "</div>"
      ],
      "text/plain": [
       "            state  customer_lifetime_value response  coverage education  \\\n",
       "0         Arizona              4809.216960       No     Basic   College   \n",
       "1      California              2228.525238       No     Basic   College   \n",
       "2      Washington             14947.917300       No     Basic  Bachelor   \n",
       "3          Oregon             22332.439460      Yes  Extended   College   \n",
       "4          Oregon              9025.067525       No   Premium  Bachelor   \n",
       "...           ...                      ...      ...       ...       ...   \n",
       "10771      Nevada             15563.369440       No   Premium  Bachelor   \n",
       "10772      Oregon              5259.444853       No     Basic   College   \n",
       "10773     Arizona             23893.304100       No  Extended  Bachelor   \n",
       "10774  California             11971.977650       No   Premium   College   \n",
       "10775         NaN              6857.519928      NaN     Basic  Bachelor   \n",
       "\n",
       "      effective_to_date employmentstatus gender  income location_code  ...  \\\n",
       "0               2/18/11         Employed      M   48029      Suburban  ...   \n",
       "1               1/18/11       Unemployed      F       0      Suburban  ...   \n",
       "2               2/10/11         Employed      M   22139      Suburban  ...   \n",
       "3               1/11/11         Employed      M   49078      Suburban  ...   \n",
       "4               1/17/11    Medical Leave      F   23675      Suburban  ...   \n",
       "...                 ...              ...    ...     ...           ...  ...   \n",
       "10771           1/19/11       Unemployed      F       0      Suburban  ...   \n",
       "10772            1/6/11         Employed      F   61146         Urban  ...   \n",
       "10773            2/6/11         Employed      F   39837         Rural  ...   \n",
       "10774           2/13/11         Employed      F   64195         Urban  ...   \n",
       "10775            1/8/11       Unemployed      M       0      Suburban  ...   \n",
       "\n",
       "      number_of_open_complaints  number_of_policies     policy_type  \\\n",
       "0                           0.0                   9  Corporate Auto   \n",
       "1                           0.0                   1   Personal Auto   \n",
       "2                           0.0                   2   Personal Auto   \n",
       "3                           0.0                   2  Corporate Auto   \n",
       "4                           0.0                   7   Personal Auto   \n",
       "...                         ...                 ...             ...   \n",
       "10771                       0.0                   7   Personal Auto   \n",
       "10772                       0.0                   6   Personal Auto   \n",
       "10773                       0.0                   2  Corporate Auto   \n",
       "10774                       4.0                   6   Personal Auto   \n",
       "10775                       0.0                   3   Personal Auto   \n",
       "\n",
       "             policy  renew_offer_type  sales_channel total_claim_amount  \\\n",
       "0      Corporate L3            Offer3          Agent         292.800000   \n",
       "1       Personal L3            Offer4    Call Center         744.924331   \n",
       "2       Personal L3            Offer3    Call Center         480.000000   \n",
       "3      Corporate L3            Offer2         Branch         484.013411   \n",
       "4       Personal L2            Offer1         Branch         707.925645   \n",
       "...             ...               ...            ...                ...   \n",
       "10771   Personal L1            Offer3            Web        1214.400000   \n",
       "10772   Personal L3            Offer2         Branch         273.018929   \n",
       "10773  Corporate L3            Offer1            Web         381.306996   \n",
       "10774   Personal L1            Offer1         Branch         618.288849   \n",
       "10775   Personal L1            Offer4            Web        1021.719397   \n",
       "\n",
       "       vehicle_class vehicle_size vehicle_type  \n",
       "0      Four-Door Car      Medsize            M  \n",
       "1      Four-Door Car      Medsize            M  \n",
       "2                SUV      Medsize            A  \n",
       "3      Four-Door Car      Medsize            A  \n",
       "4      Four-Door Car      Medsize            M  \n",
       "...              ...          ...          ...  \n",
       "10771     Luxury Car      Medsize            A  \n",
       "10772  Four-Door Car      Medsize            A  \n",
       "10773     Luxury SUV      Medsize            M  \n",
       "10774            SUV      Medsize            A  \n",
       "10775            SUV      Medsize            M  \n",
       "\n",
       "[10776 rows x 24 columns]"
      ]
     },
     "execution_count": 32,
     "metadata": {},
     "output_type": "execute_result"
    }
   ],
   "source": [
    "df"
   ]
  },
  {
   "cell_type": "code",
   "execution_count": 33,
   "id": "cf95001f",
   "metadata": {},
   "outputs": [
    {
     "data": {
      "text/plain": [
       "M    5416\n",
       "A    5360\n",
       "Name: vehicle_type, dtype: int64"
      ]
     },
     "execution_count": 33,
     "metadata": {},
     "output_type": "execute_result"
    }
   ],
   "source": [
    "df[\"vehicle_type\"].value_counts()"
   ]
  },
  {
   "cell_type": "code",
   "execution_count": 34,
   "id": "a755d0da",
   "metadata": {},
   "outputs": [
    {
     "data": {
      "text/plain": [
       "<AxesSubplot:>"
      ]
     },
     "execution_count": 34,
     "metadata": {},
     "output_type": "execute_result"
    },
    {
     "data": {
      "image/png": "[encoded data removed]",
      "text/plain": [
       "<Figure size 432x288 with 1 Axes>"
      ]
     },
     "metadata": {
      "needs_background": "light"
     },
     "output_type": "display_data"
    }
   ],
   "source": [
    "df[\"vehicle_type\"].hist()"
   ]
  },
  {
   "cell_type": "markdown",
   "id": "28b847ad",
   "metadata": {},
   "source": [
    "## Activity 5"
   ]
  },
  {
   "cell_type": "markdown",
   "id": "38a383ea",
   "metadata": {},
   "source": [
    "### Check the data types of the columns. Get the numeric data into dataframe called numerical and categorical columns in a dataframe called categoricals. (You can use np.number and np.object to select the numerical data types and categorical data types respectively)"
   ]
  },
  {
   "cell_type": "code",
   "execution_count": 36,
   "id": "51b4e8ef",
   "metadata": {},
   "outputs": [
    {
     "name": "stdout",
     "output_type": "stream",
     "text": [
      "<class 'pandas.core.frame.DataFrame'>\n",
      "RangeIndex: 10776 entries, 0 to 10775\n",
      "Data columns (total 24 columns):\n",
      " #   Column                         Non-Null Count  Dtype  \n",
      "---  ------                         --------------  -----  \n",
      " 0   state                          10163 non-null  object \n",
      " 1   customer_lifetime_value        10776 non-null  float64\n",
      " 2   response                       10163 non-null  object \n",
      " 3   coverage                       10776 non-null  object \n",
      " 4   education                      10776 non-null  object \n",
      " 5   effective_to_date              10776 non-null  object \n",
      " 6   employmentstatus               10776 non-null  object \n",
      " 7   gender                         10776 non-null  object \n",
      " 8   income                         10776 non-null  int64  \n",
      " 9   location_code                  10776 non-null  object \n",
      " 10  marital_status                 10776 non-null  object \n",
      " 11  monthly_premium_auto           10776 non-null  int64  \n",
      " 12  months_since_last_claim        10776 non-null  float64\n",
      " 13  months_since_policy_inception  10776 non-null  int64  \n",
      " 14  number_of_open_complaints      10776 non-null  float64\n",
      " 15  number_of_policies             10776 non-null  int64  \n",
      " 16  policy_type                    10776 non-null  object \n",
      " 17  policy                         10776 non-null  object \n",
      " 18  renew_offer_type               10776 non-null  object \n",
      " 19  sales_channel                  10776 non-null  object \n",
      " 20  total_claim_amount             10776 non-null  float64\n",
      " 21  vehicle_class                  10168 non-null  object \n",
      " 22  vehicle_size                   10168 non-null  object \n",
      " 23  vehicle_type                   10776 non-null  object \n",
      "dtypes: float64(4), int64(4), object(16)\n",
      "memory usage: 2.0+ MB\n"
     ]
    }
   ],
   "source": [
    "df.info()"
   ]
  },
  {
   "cell_type": "code",
   "execution_count": 61,
   "id": "96f58f92",
   "metadata": {},
   "outputs": [
    {
     "data": {
      "text/plain": [
       "['state',\n",
       " 'response',\n",
       " 'coverage',\n",
       " 'education',\n",
       " 'effective_to_date',\n",
       " 'employmentstatus',\n",
       " 'gender',\n",
       " 'location_code',\n",
       " 'marital_status',\n",
       " 'policy_type',\n",
       " 'policy',\n",
       " 'renew_offer_type',\n",
       " 'sales_channel',\n",
       " 'vehicle_class',\n",
       " 'vehicle_size',\n",
       " 'vehicle_type']"
      ]
     },
     "execution_count": 61,
     "metadata": {},
     "output_type": "execute_result"
    }
   ],
   "source": [
    "# Identify all the cathegorical columns \n",
    "[col for col in df.columns if not col in df._get_numeric_data().columns]"
   ]
  },
  {
   "cell_type": "code",
   "execution_count": 65,
   "id": "7815c1ba",
   "metadata": {},
   "outputs": [],
   "source": [
    "# save a new subset -> numerical columns as the new DF\n",
    "numerical = df._get_numeric_data()"
   ]
  },
  {
   "cell_type": "code",
   "execution_count": 67,
   "id": "d401a5f9",
   "metadata": {},
   "outputs": [
    {
     "data": {
      "text/plain": [
       "['state',\n",
       " 'response',\n",
       " 'coverage',\n",
       " 'education',\n",
       " 'effective_to_date',\n",
       " 'employmentstatus',\n",
       " 'gender',\n",
       " 'location_code',\n",
       " 'marital_status',\n",
       " 'policy_type',\n",
       " 'policy',\n",
       " 'renew_offer_type',\n",
       " 'sales_channel',\n",
       " 'vehicle_class',\n",
       " 'vehicle_size',\n",
       " 'vehicle_type']"
      ]
     },
     "execution_count": 67,
     "metadata": {},
     "output_type": "execute_result"
    }
   ],
   "source": [
    "# save a new subset -> cathegorical columns as the new DF\n",
    "categorical=[i for i in df.columns if df.dtypes[i]=='object']\n",
    "categorical"
   ]
  },
  {
   "cell_type": "markdown",
   "id": "e7b3c0a1",
   "metadata": {},
   "source": [
    "### Now we will try to check the normality of the numerical variables visually\n",
    "\n",
    "- Use seaborn library to construct distribution plots for the numerical variables\n",
    "- Use Matplotlib to construct histograms\n",
    "- Do the distributions for different numerical variables look like a normal distribution\n"
   ]
  },
  {
   "cell_type": "code",
   "execution_count": 62,
   "id": "08ddb7d7",
   "metadata": {},
   "outputs": [
    {
     "data": {
      "text/plain": [
       "['customer_lifetime_value',\n",
       " 'income',\n",
       " 'monthly_premium_auto',\n",
       " 'months_since_last_claim',\n",
       " 'months_since_policy_inception',\n",
       " 'number_of_open_complaints',\n",
       " 'number_of_policies',\n",
       " 'total_claim_amount']"
      ]
     },
     "execution_count": 62,
     "metadata": {},
     "output_type": "execute_result"
    }
   ],
   "source": [
    "# Identify all the numerical columns \n",
    "[col for col in df.columns if col in df._get_numeric_data().columns]"
   ]
  },
  {
   "cell_type": "code",
   "execution_count": 70,
   "id": "c3f54abf",
   "metadata": {
    "scrolled": true
   },
   "outputs": [
    {
     "data": {
      "text/plain": [
       "7507.455372     11\n",
       "5504.139033     11\n",
       "13727.799720    10\n",
       "5181.620895     10\n",
       "4250.282624     10\n",
       "                ..\n",
       "8485.385641      1\n",
       "8400.788878      1\n",
       "5525.836623      1\n",
       "3768.086327      1\n",
       "6051.799036      1\n",
       "Name: customer_lifetime_value, Length: 8041, dtype: int64"
      ]
     },
     "execution_count": 70,
     "metadata": {},
     "output_type": "execute_result"
    }
   ],
   "source": [
    "customer_lifetime_values=numerical[\"customer_lifetime_value\"].value_counts()\n",
    "customer_lifetime_values"
   ]
  },
  {
   "cell_type": "code",
   "execution_count": 74,
   "id": "551ea043",
   "metadata": {},
   "outputs": [
    {
     "data": {
      "text/html": [
       "<div>\n",
       "<style scoped>\n",
       "    .dataframe tbody tr th:only-of-type {\n",
       "        vertical-align: middle;\n",
       "    }\n",
       "\n",
       "    .dataframe tbody tr th {\n",
       "        vertical-align: top;\n",
       "    }\n",
       "\n",
       "    .dataframe thead th {\n",
       "        text-align: right;\n",
       "    }\n",
       "</style>\n",
       "<table border=\"1\" class=\"dataframe\">\n",
       "  <thead>\n",
       "    <tr style=\"text-align: right;\">\n",
       "      <th></th>\n",
       "      <th>customer_lifetime_value</th>\n",
       "      <th>income</th>\n",
       "      <th>monthly_premium_auto</th>\n",
       "      <th>months_since_last_claim</th>\n",
       "      <th>months_since_policy_inception</th>\n",
       "      <th>number_of_open_complaints</th>\n",
       "      <th>number_of_policies</th>\n",
       "      <th>total_claim_amount</th>\n",
       "    </tr>\n",
       "  </thead>\n",
       "  <tbody>\n",
       "    <tr>\n",
       "      <th>count</th>\n",
       "      <td>10776.000000</td>\n",
       "      <td>10776.000000</td>\n",
       "      <td>10776.000000</td>\n",
       "      <td>10776.000000</td>\n",
       "      <td>10776.000000</td>\n",
       "      <td>10776.000000</td>\n",
       "      <td>10776.000000</td>\n",
       "      <td>10776.000000</td>\n",
       "    </tr>\n",
       "    <tr>\n",
       "      <th>mean</th>\n",
       "      <td>8016.710885</td>\n",
       "      <td>37543.735152</td>\n",
       "      <td>93.200260</td>\n",
       "      <td>15.138456</td>\n",
       "      <td>48.120638</td>\n",
       "      <td>0.361730</td>\n",
       "      <td>2.979306</td>\n",
       "      <td>434.759809</td>\n",
       "    </tr>\n",
       "    <tr>\n",
       "      <th>std</th>\n",
       "      <td>6885.053012</td>\n",
       "      <td>30397.579910</td>\n",
       "      <td>34.408721</td>\n",
       "      <td>9.782011</td>\n",
       "      <td>27.928243</td>\n",
       "      <td>0.888701</td>\n",
       "      <td>2.398228</td>\n",
       "      <td>292.452845</td>\n",
       "    </tr>\n",
       "    <tr>\n",
       "      <th>min</th>\n",
       "      <td>1898.007675</td>\n",
       "      <td>0.000000</td>\n",
       "      <td>61.000000</td>\n",
       "      <td>0.000000</td>\n",
       "      <td>0.000000</td>\n",
       "      <td>0.000000</td>\n",
       "      <td>1.000000</td>\n",
       "      <td>0.099007</td>\n",
       "    </tr>\n",
       "    <tr>\n",
       "      <th>25%</th>\n",
       "      <td>4014.453113</td>\n",
       "      <td>0.000000</td>\n",
       "      <td>68.000000</td>\n",
       "      <td>7.000000</td>\n",
       "      <td>24.000000</td>\n",
       "      <td>0.000000</td>\n",
       "      <td>1.000000</td>\n",
       "      <td>270.290316</td>\n",
       "    </tr>\n",
       "    <tr>\n",
       "      <th>50%</th>\n",
       "      <td>5774.709107</td>\n",
       "      <td>33837.000000</td>\n",
       "      <td>83.000000</td>\n",
       "      <td>15.000000</td>\n",
       "      <td>48.000000</td>\n",
       "      <td>0.000000</td>\n",
       "      <td>2.000000</td>\n",
       "      <td>383.403043</td>\n",
       "    </tr>\n",
       "    <tr>\n",
       "      <th>75%</th>\n",
       "      <td>8991.339270</td>\n",
       "      <td>62329.000000</td>\n",
       "      <td>109.000000</td>\n",
       "      <td>23.000000</td>\n",
       "      <td>71.000000</td>\n",
       "      <td>0.000000</td>\n",
       "      <td>4.000000</td>\n",
       "      <td>547.200000</td>\n",
       "    </tr>\n",
       "    <tr>\n",
       "      <th>max</th>\n",
       "      <td>83325.381190</td>\n",
       "      <td>99981.000000</td>\n",
       "      <td>298.000000</td>\n",
       "      <td>35.000000</td>\n",
       "      <td>99.000000</td>\n",
       "      <td>5.000000</td>\n",
       "      <td>9.000000</td>\n",
       "      <td>2893.239678</td>\n",
       "    </tr>\n",
       "  </tbody>\n",
       "</table>\n",
       "</div>"
      ],
      "text/plain": [
       "       customer_lifetime_value        income  monthly_premium_auto  \\\n",
       "count             10776.000000  10776.000000          10776.000000   \n",
       "mean               8016.710885  37543.735152             93.200260   \n",
       "std                6885.053012  30397.579910             34.408721   \n",
       "min                1898.007675      0.000000             61.000000   \n",
       "25%                4014.453113      0.000000             68.000000   \n",
       "50%                5774.709107  33837.000000             83.000000   \n",
       "75%                8991.339270  62329.000000            109.000000   \n",
       "max               83325.381190  99981.000000            298.000000   \n",
       "\n",
       "       months_since_last_claim  months_since_policy_inception  \\\n",
       "count             10776.000000                   10776.000000   \n",
       "mean                 15.138456                      48.120638   \n",
       "std                   9.782011                      27.928243   \n",
       "min                   0.000000                       0.000000   \n",
       "25%                   7.000000                      24.000000   \n",
       "50%                  15.000000                      48.000000   \n",
       "75%                  23.000000                      71.000000   \n",
       "max                  35.000000                      99.000000   \n",
       "\n",
       "       number_of_open_complaints  number_of_policies  total_claim_amount  \n",
       "count               10776.000000        10776.000000        10776.000000  \n",
       "mean                    0.361730            2.979306          434.759809  \n",
       "std                     0.888701            2.398228          292.452845  \n",
       "min                     0.000000            1.000000            0.099007  \n",
       "25%                     0.000000            1.000000          270.290316  \n",
       "50%                     0.000000            2.000000          383.403043  \n",
       "75%                     0.000000            4.000000          547.200000  \n",
       "max                     5.000000            9.000000         2893.239678  "
      ]
     },
     "execution_count": 74,
     "metadata": {},
     "output_type": "execute_result"
    }
   ],
   "source": [
    "numerical.describe()"
   ]
  },
  {
   "cell_type": "code",
   "execution_count": 113,
   "id": "d2f0445e",
   "metadata": {},
   "outputs": [
    {
     "name": "stderr",
     "output_type": "stream",
     "text": [
      "C:\\Users\\Fredo\\anaconda3\\lib\\site-packages\\seaborn\\distributions.py:2557: FutureWarning: `distplot` is a deprecated function and will be removed in a future version. Please adapt your code to use either `displot` (a figure-level function with similar flexibility) or `histplot` (an axes-level function for histograms).\n",
      "  warnings.warn(msg, FutureWarning)\n"
     ]
    },
    {
     "data": {
      "text/plain": [
       "<AxesSubplot:xlabel='customer_lifetime_value', ylabel='Density'>"
      ]
     },
     "execution_count": 113,
     "metadata": {},
     "output_type": "execute_result"
    },
    {
     "data": {
      "image/png": "[encoded data removed]",
      "text/plain": [
       "<Figure size 432x288 with 1 Axes>"
      ]
     },
     "metadata": {
      "needs_background": "light"
     },
     "output_type": "display_data"
    }
   ],
   "source": [
    "# Use seaborn library to construct distribution plots for the numerical variables\n",
    "# -> probablity density function\n",
    "\n",
    "sns.distplot(numerical[\"customer_lifetime_value\"], hist=True)\n",
    "\n"
   ]
  },
  {
   "cell_type": "code",
   "execution_count": 112,
   "id": "c165e96f",
   "metadata": {},
   "outputs": [
    {
     "name": "stderr",
     "output_type": "stream",
     "text": [
      "C:\\Users\\Fredo\\anaconda3\\lib\\site-packages\\seaborn\\distributions.py:2557: FutureWarning: `distplot` is a deprecated function and will be removed in a future version. Please adapt your code to use either `displot` (a figure-level function with similar flexibility) or `histplot` (an axes-level function for histograms).\n",
      "  warnings.warn(msg, FutureWarning)\n"
     ]
    },
    {
     "data": {
      "text/plain": [
       "<AxesSubplot:xlabel='income', ylabel='Density'>"
      ]
     },
     "execution_count": 112,
     "metadata": {},
     "output_type": "execute_result"
    },
    {
     "data": {
      "image/png": "[encoded data removed]",
      "text/plain": [
       "<Figure size 432x288 with 1 Axes>"
      ]
     },
     "metadata": {
      "needs_background": "light"
     },
     "output_type": "display_data"
    }
   ],
   "source": [
    "sns.distplot(numerical[\"income\"], hist=True)"
   ]
  },
  {
   "cell_type": "code",
   "execution_count": 91,
   "id": "1629b3cb",
   "metadata": {},
   "outputs": [
    {
     "name": "stderr",
     "output_type": "stream",
     "text": [
      "C:\\Users\\Fredo\\anaconda3\\lib\\site-packages\\seaborn\\distributions.py:2557: FutureWarning: `distplot` is a deprecated function and will be removed in a future version. Please adapt your code to use either `displot` (a figure-level function with similar flexibility) or `histplot` (an axes-level function for histograms).\n",
      "  warnings.warn(msg, FutureWarning)\n"
     ]
    },
    {
     "data": {
      "text/plain": [
       "<AxesSubplot:xlabel='total_claim_amount', ylabel='Density'>"
      ]
     },
     "execution_count": 91,
     "metadata": {},
     "output_type": "execute_result"
    },
    {
     "data": {
      "image/png": "[encoded data removed]",
      "text/plain": [
       "<Figure size 432x288 with 1 Axes>"
      ]
     },
     "metadata": {
      "needs_background": "light"
     },
     "output_type": "display_data"
    }
   ],
   "source": [
    "\n",
    "sns.distplot(numerical[\"total_claim_amount\"], hist=True)"
   ]
  },
  {
   "cell_type": "code",
   "execution_count": 98,
   "id": "f01337a6",
   "metadata": {},
   "outputs": [
    {
     "data": {
      "image/png": "[encoded data removed]",
      "text/plain": [
       "<Figure size 432x288 with 1 Axes>"
      ]
     },
     "metadata": {
      "needs_background": "light"
     },
     "output_type": "display_data"
    },
    {
     "data": {
      "image/png": "[encoded data removed]",
      "text/plain": [
       "<Figure size 432x288 with 1 Axes>"
      ]
     },
     "metadata": {
      "needs_background": "light"
     },
     "output_type": "display_data"
    }
   ],
   "source": [
    "from matplotlib import pyplot\n",
    "pyplot.plot(numerical[\"total_claim_amount\"])\n",
    "pyplot.show()\n",
    "\n",
    "# histogram\n",
    "pyplot.hist(numerical[\"total_claim_amount\"])\n",
    "pyplot.show()"
   ]
  },
  {
   "cell_type": "code",
   "execution_count": 94,
   "id": "e9e4b901",
   "metadata": {},
   "outputs": [
    {
     "name": "stderr",
     "output_type": "stream",
     "text": [
      "C:\\Users\\Fredo\\anaconda3\\lib\\site-packages\\seaborn\\distributions.py:2557: FutureWarning: `distplot` is a deprecated function and will be removed in a future version. Please adapt your code to use either `displot` (a figure-level function with similar flexibility) or `histplot` (an axes-level function for histograms).\n",
      "  warnings.warn(msg, FutureWarning)\n"
     ]
    },
    {
     "data": {
      "text/plain": [
       "<AxesSubplot:xlabel='number_of_policies', ylabel='Density'>"
      ]
     },
     "execution_count": 94,
     "metadata": {},
     "output_type": "execute_result"
    },
    {
     "data": {
      "image/png": "[encoded data removed]",
      "text/plain": [
       "<Figure size 432x288 with 1 Axes>"
      ]
     },
     "metadata": {
      "needs_background": "light"
     },
     "output_type": "display_data"
    }
   ],
   "source": [
    "# looks like a uniform distirbution\n",
    "\n",
    "sns.distplot(numerical[\"number_of_policies\"], hist=True)"
   ]
  },
  {
   "cell_type": "code",
   "execution_count": 92,
   "id": "347acf79",
   "metadata": {},
   "outputs": [
    {
     "data": {
      "text/plain": [
       "(array([9.30188283e-04, 1.79173509e-03, 4.85622435e-04, 1.48509371e-04,\n",
       "        6.92829894e-05, 1.34716924e-05, 1.05849012e-05, 4.81131870e-06,\n",
       "        1.60377290e-06, 6.41509161e-07]),\n",
       " array([9.90070000e-02, 2.89413074e+02, 5.78727141e+02, 8.68041208e+02,\n",
       "        1.15735528e+03, 1.44666934e+03, 1.73598341e+03, 2.02529748e+03,\n",
       "        2.31461154e+03, 2.60392561e+03, 2.89323968e+03]),\n",
       " <BarContainer object of 10 artists>)"
      ]
     },
     "execution_count": 92,
     "metadata": {},
     "output_type": "execute_result"
    },
    {
     "data": {
      "image/png": "[encoded data removed]",
      "text/plain": [
       "<Figure size 432x288 with 1 Axes>"
      ]
     },
     "metadata": {
      "needs_background": "light"
     },
     "output_type": "display_data"
    }
   ],
   "source": [
    "# plot the histogram\n",
    "plt.hist(numerical[\"total_claim_amount\"], bins=10, density=True)\n"
   ]
  },
  {
   "cell_type": "markdown",
   "id": "307bd544",
   "metadata": {},
   "source": [
    "###  Normalize (numericals)"
   ]
  },
  {
   "cell_type": "code",
   "execution_count": 99,
   "id": "ca42999c",
   "metadata": {},
   "outputs": [],
   "source": [
    "# MAX ABSOLUTE SCALING\n",
    "\n",
    "# copy the data\n",
    "numerical_max_scaled = numerical.copy()"
   ]
  },
  {
   "cell_type": "code",
   "execution_count": 101,
   "id": "f233472f",
   "metadata": {},
   "outputs": [
    {
     "data": {
      "text/html": [
       "<div>\n",
       "<style scoped>\n",
       "    .dataframe tbody tr th:only-of-type {\n",
       "        vertical-align: middle;\n",
       "    }\n",
       "\n",
       "    .dataframe tbody tr th {\n",
       "        vertical-align: top;\n",
       "    }\n",
       "\n",
       "    .dataframe thead th {\n",
       "        text-align: right;\n",
       "    }\n",
       "</style>\n",
       "<table border=\"1\" class=\"dataframe\">\n",
       "  <thead>\n",
       "    <tr style=\"text-align: right;\">\n",
       "      <th></th>\n",
       "      <th>customer_lifetime_value</th>\n",
       "      <th>income</th>\n",
       "      <th>monthly_premium_auto</th>\n",
       "      <th>months_since_last_claim</th>\n",
       "      <th>months_since_policy_inception</th>\n",
       "      <th>number_of_open_complaints</th>\n",
       "      <th>number_of_policies</th>\n",
       "      <th>total_claim_amount</th>\n",
       "    </tr>\n",
       "  </thead>\n",
       "  <tbody>\n",
       "    <tr>\n",
       "      <th>0</th>\n",
       "      <td>0.057716</td>\n",
       "      <td>0.480381</td>\n",
       "      <td>0.204698</td>\n",
       "      <td>0.200000</td>\n",
       "      <td>0.525253</td>\n",
       "      <td>0.0</td>\n",
       "      <td>1.000000</td>\n",
       "      <td>0.101201</td>\n",
       "    </tr>\n",
       "    <tr>\n",
       "      <th>1</th>\n",
       "      <td>0.026745</td>\n",
       "      <td>0.000000</td>\n",
       "      <td>0.214765</td>\n",
       "      <td>0.085714</td>\n",
       "      <td>0.262626</td>\n",
       "      <td>0.0</td>\n",
       "      <td>0.111111</td>\n",
       "      <td>0.257471</td>\n",
       "    </tr>\n",
       "    <tr>\n",
       "      <th>2</th>\n",
       "      <td>0.179392</td>\n",
       "      <td>0.221432</td>\n",
       "      <td>0.335570</td>\n",
       "      <td>0.971429</td>\n",
       "      <td>0.313131</td>\n",
       "      <td>0.0</td>\n",
       "      <td>0.222222</td>\n",
       "      <td>0.165904</td>\n",
       "    </tr>\n",
       "    <tr>\n",
       "      <th>3</th>\n",
       "      <td>0.268015</td>\n",
       "      <td>0.490873</td>\n",
       "      <td>0.325503</td>\n",
       "      <td>0.285714</td>\n",
       "      <td>0.030303</td>\n",
       "      <td>0.0</td>\n",
       "      <td>0.222222</td>\n",
       "      <td>0.167291</td>\n",
       "    </tr>\n",
       "    <tr>\n",
       "      <th>4</th>\n",
       "      <td>0.108311</td>\n",
       "      <td>0.236795</td>\n",
       "      <td>0.392617</td>\n",
       "      <td>0.428571</td>\n",
       "      <td>0.313131</td>\n",
       "      <td>0.0</td>\n",
       "      <td>0.777778</td>\n",
       "      <td>0.244683</td>\n",
       "    </tr>\n",
       "    <tr>\n",
       "      <th>...</th>\n",
       "      <td>...</td>\n",
       "      <td>...</td>\n",
       "      <td>...</td>\n",
       "      <td>...</td>\n",
       "      <td>...</td>\n",
       "      <td>...</td>\n",
       "      <td>...</td>\n",
       "      <td>...</td>\n",
       "    </tr>\n",
       "    <tr>\n",
       "      <th>10771</th>\n",
       "      <td>0.186778</td>\n",
       "      <td>0.000000</td>\n",
       "      <td>0.848993</td>\n",
       "      <td>0.428571</td>\n",
       "      <td>0.404040</td>\n",
       "      <td>0.0</td>\n",
       "      <td>0.777778</td>\n",
       "      <td>0.419737</td>\n",
       "    </tr>\n",
       "    <tr>\n",
       "      <th>10772</th>\n",
       "      <td>0.063119</td>\n",
       "      <td>0.611576</td>\n",
       "      <td>0.218121</td>\n",
       "      <td>0.200000</td>\n",
       "      <td>0.686869</td>\n",
       "      <td>0.0</td>\n",
       "      <td>0.666667</td>\n",
       "      <td>0.094364</td>\n",
       "    </tr>\n",
       "    <tr>\n",
       "      <th>10773</th>\n",
       "      <td>0.286747</td>\n",
       "      <td>0.398446</td>\n",
       "      <td>0.674497</td>\n",
       "      <td>0.314286</td>\n",
       "      <td>0.636364</td>\n",
       "      <td>0.0</td>\n",
       "      <td>0.222222</td>\n",
       "      <td>0.131792</td>\n",
       "    </tr>\n",
       "    <tr>\n",
       "      <th>10774</th>\n",
       "      <td>0.143677</td>\n",
       "      <td>0.642072</td>\n",
       "      <td>0.530201</td>\n",
       "      <td>0.000000</td>\n",
       "      <td>0.272727</td>\n",
       "      <td>0.8</td>\n",
       "      <td>0.666667</td>\n",
       "      <td>0.213701</td>\n",
       "    </tr>\n",
       "    <tr>\n",
       "      <th>10775</th>\n",
       "      <td>0.082298</td>\n",
       "      <td>0.000000</td>\n",
       "      <td>0.338926</td>\n",
       "      <td>0.885714</td>\n",
       "      <td>0.010101</td>\n",
       "      <td>0.0</td>\n",
       "      <td>0.333333</td>\n",
       "      <td>0.353140</td>\n",
       "    </tr>\n",
       "  </tbody>\n",
       "</table>\n",
       "<p>10776 rows × 8 columns</p>\n",
       "</div>"
      ],
      "text/plain": [
       "       customer_lifetime_value    income  monthly_premium_auto  \\\n",
       "0                     0.057716  0.480381              0.204698   \n",
       "1                     0.026745  0.000000              0.214765   \n",
       "2                     0.179392  0.221432              0.335570   \n",
       "3                     0.268015  0.490873              0.325503   \n",
       "4                     0.108311  0.236795              0.392617   \n",
       "...                        ...       ...                   ...   \n",
       "10771                 0.186778  0.000000              0.848993   \n",
       "10772                 0.063119  0.611576              0.218121   \n",
       "10773                 0.286747  0.398446              0.674497   \n",
       "10774                 0.143677  0.642072              0.530201   \n",
       "10775                 0.082298  0.000000              0.338926   \n",
       "\n",
       "       months_since_last_claim  months_since_policy_inception  \\\n",
       "0                     0.200000                       0.525253   \n",
       "1                     0.085714                       0.262626   \n",
       "2                     0.971429                       0.313131   \n",
       "3                     0.285714                       0.030303   \n",
       "4                     0.428571                       0.313131   \n",
       "...                        ...                            ...   \n",
       "10771                 0.428571                       0.404040   \n",
       "10772                 0.200000                       0.686869   \n",
       "10773                 0.314286                       0.636364   \n",
       "10774                 0.000000                       0.272727   \n",
       "10775                 0.885714                       0.010101   \n",
       "\n",
       "       number_of_open_complaints  number_of_policies  total_claim_amount  \n",
       "0                            0.0            1.000000            0.101201  \n",
       "1                            0.0            0.111111            0.257471  \n",
       "2                            0.0            0.222222            0.165904  \n",
       "3                            0.0            0.222222            0.167291  \n",
       "4                            0.0            0.777778            0.244683  \n",
       "...                          ...                 ...                 ...  \n",
       "10771                        0.0            0.777778            0.419737  \n",
       "10772                        0.0            0.666667            0.094364  \n",
       "10773                        0.0            0.222222            0.131792  \n",
       "10774                        0.8            0.666667            0.213701  \n",
       "10775                        0.0            0.333333            0.353140  \n",
       "\n",
       "[10776 rows x 8 columns]"
      ]
     },
     "metadata": {},
     "output_type": "display_data"
    }
   ],
   "source": [
    "# apply normalization techniques\n",
    "for column in numerical_max_scaled.columns:\n",
    "    numerical_max_scaled[column] = numerical_max_scaled[column]  / numerical_max_scaled[column].abs().max()\n",
    "    \n",
    "# view normalized data\n",
    "display(numerical_max_scaled)"
   ]
  },
  {
   "cell_type": "code",
   "execution_count": 104,
   "id": "bf931799",
   "metadata": {},
   "outputs": [
    {
     "data": {
      "text/html": [
       "<div>\n",
       "<style scoped>\n",
       "    .dataframe tbody tr th:only-of-type {\n",
       "        vertical-align: middle;\n",
       "    }\n",
       "\n",
       "    .dataframe tbody tr th {\n",
       "        vertical-align: top;\n",
       "    }\n",
       "\n",
       "    .dataframe thead th {\n",
       "        text-align: right;\n",
       "    }\n",
       "</style>\n",
       "<table border=\"1\" class=\"dataframe\">\n",
       "  <thead>\n",
       "    <tr style=\"text-align: right;\">\n",
       "      <th></th>\n",
       "      <th>customer_lifetime_value</th>\n",
       "      <th>income</th>\n",
       "      <th>monthly_premium_auto</th>\n",
       "      <th>months_since_last_claim</th>\n",
       "      <th>months_since_policy_inception</th>\n",
       "      <th>number_of_open_complaints</th>\n",
       "      <th>number_of_policies</th>\n",
       "      <th>total_claim_amount</th>\n",
       "    </tr>\n",
       "  </thead>\n",
       "  <tbody>\n",
       "    <tr>\n",
       "      <th>0</th>\n",
       "      <td>0.035752</td>\n",
       "      <td>0.480381</td>\n",
       "      <td>0.000000</td>\n",
       "      <td>0.200000</td>\n",
       "      <td>0.525253</td>\n",
       "      <td>0.0</td>\n",
       "      <td>1.000</td>\n",
       "      <td>0.101171</td>\n",
       "    </tr>\n",
       "    <tr>\n",
       "      <th>1</th>\n",
       "      <td>0.004059</td>\n",
       "      <td>0.000000</td>\n",
       "      <td>0.012658</td>\n",
       "      <td>0.085714</td>\n",
       "      <td>0.262626</td>\n",
       "      <td>0.0</td>\n",
       "      <td>0.000</td>\n",
       "      <td>0.257445</td>\n",
       "    </tr>\n",
       "    <tr>\n",
       "      <th>2</th>\n",
       "      <td>0.160264</td>\n",
       "      <td>0.221432</td>\n",
       "      <td>0.164557</td>\n",
       "      <td>0.971429</td>\n",
       "      <td>0.313131</td>\n",
       "      <td>0.0</td>\n",
       "      <td>0.125</td>\n",
       "      <td>0.165875</td>\n",
       "    </tr>\n",
       "    <tr>\n",
       "      <th>3</th>\n",
       "      <td>0.250953</td>\n",
       "      <td>0.490873</td>\n",
       "      <td>0.151899</td>\n",
       "      <td>0.285714</td>\n",
       "      <td>0.030303</td>\n",
       "      <td>0.0</td>\n",
       "      <td>0.125</td>\n",
       "      <td>0.167263</td>\n",
       "    </tr>\n",
       "    <tr>\n",
       "      <th>4</th>\n",
       "      <td>0.087527</td>\n",
       "      <td>0.236795</td>\n",
       "      <td>0.236287</td>\n",
       "      <td>0.428571</td>\n",
       "      <td>0.313131</td>\n",
       "      <td>0.0</td>\n",
       "      <td>0.750</td>\n",
       "      <td>0.244657</td>\n",
       "    </tr>\n",
       "    <tr>\n",
       "      <th>...</th>\n",
       "      <td>...</td>\n",
       "      <td>...</td>\n",
       "      <td>...</td>\n",
       "      <td>...</td>\n",
       "      <td>...</td>\n",
       "      <td>...</td>\n",
       "      <td>...</td>\n",
       "      <td>...</td>\n",
       "    </tr>\n",
       "    <tr>\n",
       "      <th>10771</th>\n",
       "      <td>0.167823</td>\n",
       "      <td>0.000000</td>\n",
       "      <td>0.810127</td>\n",
       "      <td>0.428571</td>\n",
       "      <td>0.404040</td>\n",
       "      <td>0.0</td>\n",
       "      <td>0.750</td>\n",
       "      <td>0.419717</td>\n",
       "    </tr>\n",
       "    <tr>\n",
       "      <th>10772</th>\n",
       "      <td>0.041281</td>\n",
       "      <td>0.611576</td>\n",
       "      <td>0.016878</td>\n",
       "      <td>0.200000</td>\n",
       "      <td>0.686869</td>\n",
       "      <td>0.0</td>\n",
       "      <td>0.625</td>\n",
       "      <td>0.094333</td>\n",
       "    </tr>\n",
       "    <tr>\n",
       "      <th>10773</th>\n",
       "      <td>0.270122</td>\n",
       "      <td>0.398446</td>\n",
       "      <td>0.590717</td>\n",
       "      <td>0.314286</td>\n",
       "      <td>0.636364</td>\n",
       "      <td>0.0</td>\n",
       "      <td>0.125</td>\n",
       "      <td>0.131763</td>\n",
       "    </tr>\n",
       "    <tr>\n",
       "      <th>10774</th>\n",
       "      <td>0.123717</td>\n",
       "      <td>0.642072</td>\n",
       "      <td>0.409283</td>\n",
       "      <td>0.000000</td>\n",
       "      <td>0.272727</td>\n",
       "      <td>0.8</td>\n",
       "      <td>0.625</td>\n",
       "      <td>0.213674</td>\n",
       "    </tr>\n",
       "    <tr>\n",
       "      <th>10775</th>\n",
       "      <td>0.060907</td>\n",
       "      <td>0.000000</td>\n",
       "      <td>0.168776</td>\n",
       "      <td>0.885714</td>\n",
       "      <td>0.010101</td>\n",
       "      <td>0.0</td>\n",
       "      <td>0.250</td>\n",
       "      <td>0.353118</td>\n",
       "    </tr>\n",
       "  </tbody>\n",
       "</table>\n",
       "<p>10776 rows × 8 columns</p>\n",
       "</div>"
      ],
      "text/plain": [
       "       customer_lifetime_value    income  monthly_premium_auto  \\\n",
       "0                     0.035752  0.480381              0.000000   \n",
       "1                     0.004059  0.000000              0.012658   \n",
       "2                     0.160264  0.221432              0.164557   \n",
       "3                     0.250953  0.490873              0.151899   \n",
       "4                     0.087527  0.236795              0.236287   \n",
       "...                        ...       ...                   ...   \n",
       "10771                 0.167823  0.000000              0.810127   \n",
       "10772                 0.041281  0.611576              0.016878   \n",
       "10773                 0.270122  0.398446              0.590717   \n",
       "10774                 0.123717  0.642072              0.409283   \n",
       "10775                 0.060907  0.000000              0.168776   \n",
       "\n",
       "       months_since_last_claim  months_since_policy_inception  \\\n",
       "0                     0.200000                       0.525253   \n",
       "1                     0.085714                       0.262626   \n",
       "2                     0.971429                       0.313131   \n",
       "3                     0.285714                       0.030303   \n",
       "4                     0.428571                       0.313131   \n",
       "...                        ...                            ...   \n",
       "10771                 0.428571                       0.404040   \n",
       "10772                 0.200000                       0.686869   \n",
       "10773                 0.314286                       0.636364   \n",
       "10774                 0.000000                       0.272727   \n",
       "10775                 0.885714                       0.010101   \n",
       "\n",
       "       number_of_open_complaints  number_of_policies  total_claim_amount  \n",
       "0                            0.0               1.000            0.101171  \n",
       "1                            0.0               0.000            0.257445  \n",
       "2                            0.0               0.125            0.165875  \n",
       "3                            0.0               0.125            0.167263  \n",
       "4                            0.0               0.750            0.244657  \n",
       "...                          ...                 ...                 ...  \n",
       "10771                        0.0               0.750            0.419717  \n",
       "10772                        0.0               0.625            0.094333  \n",
       "10773                        0.0               0.125            0.131763  \n",
       "10774                        0.8               0.625            0.213674  \n",
       "10775                        0.0               0.250            0.353118  \n",
       "\n",
       "[10776 rows x 8 columns]"
      ]
     },
     "execution_count": 104,
     "metadata": {},
     "output_type": "execute_result"
    }
   ],
   "source": [
    "# Using The MIN-MAX FEATURE SCALING\n",
    "\n",
    "# copy the data\n",
    "numerical_min_max_scaled = numerical.copy()\n",
    "  \n",
    "# apply normalization techniques\n",
    "for column in numerical_min_max_scaled.columns:\n",
    "    numerical_min_max_scaled[column] = (numerical_min_max_scaled[column] - numerical_min_max_scaled[column].min()) / (numerical_min_max_scaled[column].max() - numerical_min_max_scaled[column].min())    \n",
    "  \n",
    "# view normalized data\n",
    "numerical_min_max_scaled"
   ]
  },
  {
   "cell_type": "code",
   "execution_count": 106,
   "id": "2f064b5a",
   "metadata": {},
   "outputs": [
    {
     "name": "stderr",
     "output_type": "stream",
     "text": [
      "C:\\Users\\Fredo\\anaconda3\\lib\\site-packages\\seaborn\\distributions.py:2557: FutureWarning: `distplot` is a deprecated function and will be removed in a future version. Please adapt your code to use either `displot` (a figure-level function with similar flexibility) or `histplot` (an axes-level function for histograms).\n",
      "  warnings.warn(msg, FutureWarning)\n"
     ]
    },
    {
     "data": {
      "text/plain": [
       "<AxesSubplot:xlabel='income', ylabel='Density'>"
      ]
     },
     "execution_count": 106,
     "metadata": {},
     "output_type": "execute_result"
    },
    {
     "data": {
      "image/png": "[encoded data removed]",
      "text/plain": [
       "<Figure size 432x288 with 1 Axes>"
      ]
     },
     "metadata": {
      "needs_background": "light"
     },
     "output_type": "display_data"
    }
   ],
   "source": [
    "sns.distplot(numerical_min_max_scaled[\"income\"], hist=True)"
   ]
  },
  {
   "cell_type": "code",
   "execution_count": 108,
   "id": "980be9ea",
   "metadata": {},
   "outputs": [
    {
     "data": {
      "text/html": [
       "<div>\n",
       "<style scoped>\n",
       "    .dataframe tbody tr th:only-of-type {\n",
       "        vertical-align: middle;\n",
       "    }\n",
       "\n",
       "    .dataframe tbody tr th {\n",
       "        vertical-align: top;\n",
       "    }\n",
       "\n",
       "    .dataframe thead th {\n",
       "        text-align: right;\n",
       "    }\n",
       "</style>\n",
       "<table border=\"1\" class=\"dataframe\">\n",
       "  <thead>\n",
       "    <tr style=\"text-align: right;\">\n",
       "      <th></th>\n",
       "      <th>customer_lifetime_value</th>\n",
       "      <th>income</th>\n",
       "      <th>monthly_premium_auto</th>\n",
       "      <th>months_since_last_claim</th>\n",
       "      <th>months_since_policy_inception</th>\n",
       "      <th>number_of_open_complaints</th>\n",
       "      <th>number_of_policies</th>\n",
       "      <th>total_claim_amount</th>\n",
       "    </tr>\n",
       "  </thead>\n",
       "  <tbody>\n",
       "    <tr>\n",
       "      <th>0</th>\n",
       "      <td>-0.465863</td>\n",
       "      <td>0.344937</td>\n",
       "      <td>-0.935817</td>\n",
       "      <td>-0.831982</td>\n",
       "      <td>0.138905</td>\n",
       "      <td>-0.407032</td>\n",
       "      <td>2.510476</td>\n",
       "      <td>-0.485411</td>\n",
       "    </tr>\n",
       "    <tr>\n",
       "      <th>1</th>\n",
       "      <td>-0.840689</td>\n",
       "      <td>-1.235090</td>\n",
       "      <td>-0.848630</td>\n",
       "      <td>-1.240896</td>\n",
       "      <td>-0.792053</td>\n",
       "      <td>-0.407032</td>\n",
       "      <td>-0.825320</td>\n",
       "      <td>1.060563</td>\n",
       "    </tr>\n",
       "    <tr>\n",
       "      <th>2</th>\n",
       "      <td>1.006703</td>\n",
       "      <td>-0.506775</td>\n",
       "      <td>0.197617</td>\n",
       "      <td>1.928187</td>\n",
       "      <td>-0.613022</td>\n",
       "      <td>-0.407032</td>\n",
       "      <td>-0.408346</td>\n",
       "      <td>0.154692</td>\n",
       "    </tr>\n",
       "    <tr>\n",
       "      <th>3</th>\n",
       "      <td>2.079247</td>\n",
       "      <td>0.379447</td>\n",
       "      <td>0.110430</td>\n",
       "      <td>-0.525296</td>\n",
       "      <td>-1.615592</td>\n",
       "      <td>-0.407032</td>\n",
       "      <td>-0.408346</td>\n",
       "      <td>0.168416</td>\n",
       "    </tr>\n",
       "    <tr>\n",
       "      <th>4</th>\n",
       "      <td>0.146456</td>\n",
       "      <td>-0.456245</td>\n",
       "      <td>0.691678</td>\n",
       "      <td>-0.014154</td>\n",
       "      <td>-0.613022</td>\n",
       "      <td>-0.407032</td>\n",
       "      <td>1.676527</td>\n",
       "      <td>0.934051</td>\n",
       "    </tr>\n",
       "    <tr>\n",
       "      <th>...</th>\n",
       "      <td>...</td>\n",
       "      <td>...</td>\n",
       "      <td>...</td>\n",
       "      <td>...</td>\n",
       "      <td>...</td>\n",
       "      <td>...</td>\n",
       "      <td>...</td>\n",
       "      <td>...</td>\n",
       "    </tr>\n",
       "    <tr>\n",
       "      <th>10771</th>\n",
       "      <td>1.096093</td>\n",
       "      <td>-1.235090</td>\n",
       "      <td>4.644164</td>\n",
       "      <td>-0.014154</td>\n",
       "      <td>-0.290768</td>\n",
       "      <td>-0.407032</td>\n",
       "      <td>1.676527</td>\n",
       "      <td>2.665866</td>\n",
       "    </tr>\n",
       "    <tr>\n",
       "      <th>10772</th>\n",
       "      <td>-0.400471</td>\n",
       "      <td>0.776452</td>\n",
       "      <td>-0.819567</td>\n",
       "      <td>-0.831982</td>\n",
       "      <td>0.711801</td>\n",
       "      <td>-0.407032</td>\n",
       "      <td>1.259553</td>\n",
       "      <td>-0.553049</td>\n",
       "    </tr>\n",
       "    <tr>\n",
       "      <th>10773</th>\n",
       "      <td>2.305951</td>\n",
       "      <td>0.075442</td>\n",
       "      <td>3.132919</td>\n",
       "      <td>-0.423068</td>\n",
       "      <td>0.532771</td>\n",
       "      <td>-0.407032</td>\n",
       "      <td>-0.408346</td>\n",
       "      <td>-0.182774</td>\n",
       "    </tr>\n",
       "    <tr>\n",
       "      <th>10774</th>\n",
       "      <td>0.574472</td>\n",
       "      <td>0.876756</td>\n",
       "      <td>1.883236</td>\n",
       "      <td>-1.547581</td>\n",
       "      <td>-0.756247</td>\n",
       "      <td>4.093920</td>\n",
       "      <td>1.259553</td>\n",
       "      <td>0.627551</td>\n",
       "    </tr>\n",
       "    <tr>\n",
       "      <th>10775</th>\n",
       "      <td>-0.168363</td>\n",
       "      <td>-1.235090</td>\n",
       "      <td>0.226679</td>\n",
       "      <td>1.621501</td>\n",
       "      <td>-1.687204</td>\n",
       "      <td>-0.407032</td>\n",
       "      <td>0.008629</td>\n",
       "      <td>2.007023</td>\n",
       "    </tr>\n",
       "  </tbody>\n",
       "</table>\n",
       "<p>10776 rows × 8 columns</p>\n",
       "</div>"
      ],
      "text/plain": [
       "       customer_lifetime_value    income  monthly_premium_auto  \\\n",
       "0                    -0.465863  0.344937             -0.935817   \n",
       "1                    -0.840689 -1.235090             -0.848630   \n",
       "2                     1.006703 -0.506775              0.197617   \n",
       "3                     2.079247  0.379447              0.110430   \n",
       "4                     0.146456 -0.456245              0.691678   \n",
       "...                        ...       ...                   ...   \n",
       "10771                 1.096093 -1.235090              4.644164   \n",
       "10772                -0.400471  0.776452             -0.819567   \n",
       "10773                 2.305951  0.075442              3.132919   \n",
       "10774                 0.574472  0.876756              1.883236   \n",
       "10775                -0.168363 -1.235090              0.226679   \n",
       "\n",
       "       months_since_last_claim  months_since_policy_inception  \\\n",
       "0                    -0.831982                       0.138905   \n",
       "1                    -1.240896                      -0.792053   \n",
       "2                     1.928187                      -0.613022   \n",
       "3                    -0.525296                      -1.615592   \n",
       "4                    -0.014154                      -0.613022   \n",
       "...                        ...                            ...   \n",
       "10771                -0.014154                      -0.290768   \n",
       "10772                -0.831982                       0.711801   \n",
       "10773                -0.423068                       0.532771   \n",
       "10774                -1.547581                      -0.756247   \n",
       "10775                 1.621501                      -1.687204   \n",
       "\n",
       "       number_of_open_complaints  number_of_policies  total_claim_amount  \n",
       "0                      -0.407032            2.510476           -0.485411  \n",
       "1                      -0.407032           -0.825320            1.060563  \n",
       "2                      -0.407032           -0.408346            0.154692  \n",
       "3                      -0.407032           -0.408346            0.168416  \n",
       "4                      -0.407032            1.676527            0.934051  \n",
       "...                          ...                 ...                 ...  \n",
       "10771                  -0.407032            1.676527            2.665866  \n",
       "10772                  -0.407032            1.259553           -0.553049  \n",
       "10773                  -0.407032           -0.408346           -0.182774  \n",
       "10774                   4.093920            1.259553            0.627551  \n",
       "10775                  -0.407032            0.008629            2.007023  \n",
       "\n",
       "[10776 rows x 8 columns]"
      ]
     },
     "metadata": {},
     "output_type": "display_data"
    }
   ],
   "source": [
    "# Using The Z-SCORE METHOD\n",
    "\n",
    "\n",
    "# copy the data\n",
    "numerical_z_scaled = numerical.copy()\n",
    "  \n",
    "# apply normalization techniques\n",
    "for column in numerical_z_scaled.columns:\n",
    "    numerical_z_scaled[column] = (numerical_z_scaled[column] -\n",
    "                           numerical_z_scaled[column].mean()) / numerical_z_scaled[column].std()    \n",
    "  \n",
    "# view normalized data   \n",
    "display(numerical_z_scaled)"
   ]
  },
  {
   "cell_type": "markdown",
   "id": "840ca049",
   "metadata": {},
   "source": [
    "### For the numerical variables, check the multicollinearity between the features. Please note that we will use the column total_claim_amount later as the target variable."
   ]
  },
  {
   "cell_type": "code",
   "execution_count": 110,
   "id": "94905782",
   "metadata": {},
   "outputs": [
    {
     "data": {
      "text/plain": [
       "<AxesSubplot:>"
      ]
     },
     "execution_count": 110,
     "metadata": {},
     "output_type": "execute_result"
    },
    {
     "data": {
      "image/png": "[encoded data removed]",
      "text/plain": [
       "<Figure size 864x720 with 2 Axes>"
      ]
     },
     "metadata": {
      "needs_background": "light"
     },
     "output_type": "display_data"
    }
   ],
   "source": [
    "fig,ax = plt.subplots(figsize = (12,10))\n",
    "sns.heatmap(numerical.corr(), annot = True, ax=ax)"
   ]
  },
  {
   "cell_type": "markdown",
   "id": "f9475042",
   "metadata": {},
   "source": [
    "FINDING: Largest positive correlation is between total_claim_amount and monthly_premium_auto\n",
    "this can be explained by more expensive cars require higher premium payments\n",
    "and if there is a damage, these more expensive cars create higher claim amounts."
   ]
  },
  {
   "cell_type": "markdown",
   "id": "913f8bbb",
   "metadata": {},
   "source": [
    "### For the numerical variables, check the multicollinearity between the features. Please note that we will use the column total_claim_amount later as the target variable"
   ]
  },
  {
   "cell_type": "markdown",
   "id": "899fe2f2",
   "metadata": {},
   "source": [
    "RESULT: As we can see in the correlation coefficient matrix above, there is no independent \n",
    "variables/features with a higher correlation than plus/minus 0.9. Hence, we dont drop any of them."
   ]
  },
  {
   "cell_type": "markdown",
   "id": "ce774a48",
   "metadata": {},
   "source": [
    "## Transform Cathegorical Values"
   ]
  },
  {
   "cell_type": "markdown",
   "id": "634e4ec3",
   "metadata": {},
   "source": [
    "### Get cathegorical Columns"
   ]
  },
  {
   "cell_type": "code",
   "execution_count": 115,
   "id": "39a2782d",
   "metadata": {},
   "outputs": [
    {
     "data": {
      "text/html": [
       "<div>\n",
       "<style scoped>\n",
       "    .dataframe tbody tr th:only-of-type {\n",
       "        vertical-align: middle;\n",
       "    }\n",
       "\n",
       "    .dataframe tbody tr th {\n",
       "        vertical-align: top;\n",
       "    }\n",
       "\n",
       "    .dataframe thead th {\n",
       "        text-align: right;\n",
       "    }\n",
       "</style>\n",
       "<table border=\"1\" class=\"dataframe\">\n",
       "  <thead>\n",
       "    <tr style=\"text-align: right;\">\n",
       "      <th></th>\n",
       "      <th>state</th>\n",
       "      <th>response</th>\n",
       "      <th>coverage</th>\n",
       "      <th>education</th>\n",
       "      <th>effective_to_date</th>\n",
       "      <th>employmentstatus</th>\n",
       "      <th>gender</th>\n",
       "      <th>location_code</th>\n",
       "      <th>marital_status</th>\n",
       "      <th>policy_type</th>\n",
       "      <th>policy</th>\n",
       "      <th>renew_offer_type</th>\n",
       "      <th>sales_channel</th>\n",
       "      <th>vehicle_class</th>\n",
       "      <th>vehicle_size</th>\n",
       "      <th>vehicle_type</th>\n",
       "    </tr>\n",
       "  </thead>\n",
       "  <tbody>\n",
       "    <tr>\n",
       "      <th>0</th>\n",
       "      <td>Arizona</td>\n",
       "      <td>No</td>\n",
       "      <td>Basic</td>\n",
       "      <td>College</td>\n",
       "      <td>2/18/11</td>\n",
       "      <td>Employed</td>\n",
       "      <td>M</td>\n",
       "      <td>Suburban</td>\n",
       "      <td>Married</td>\n",
       "      <td>Corporate Auto</td>\n",
       "      <td>Corporate L3</td>\n",
       "      <td>Offer3</td>\n",
       "      <td>Agent</td>\n",
       "      <td>Four-Door Car</td>\n",
       "      <td>Medsize</td>\n",
       "      <td>M</td>\n",
       "    </tr>\n",
       "    <tr>\n",
       "      <th>1</th>\n",
       "      <td>California</td>\n",
       "      <td>No</td>\n",
       "      <td>Basic</td>\n",
       "      <td>College</td>\n",
       "      <td>1/18/11</td>\n",
       "      <td>Unemployed</td>\n",
       "      <td>F</td>\n",
       "      <td>Suburban</td>\n",
       "      <td>Single</td>\n",
       "      <td>Personal Auto</td>\n",
       "      <td>Personal L3</td>\n",
       "      <td>Offer4</td>\n",
       "      <td>Call Center</td>\n",
       "      <td>Four-Door Car</td>\n",
       "      <td>Medsize</td>\n",
       "      <td>M</td>\n",
       "    </tr>\n",
       "    <tr>\n",
       "      <th>2</th>\n",
       "      <td>Washington</td>\n",
       "      <td>No</td>\n",
       "      <td>Basic</td>\n",
       "      <td>Bachelor</td>\n",
       "      <td>2/10/11</td>\n",
       "      <td>Employed</td>\n",
       "      <td>M</td>\n",
       "      <td>Suburban</td>\n",
       "      <td>Single</td>\n",
       "      <td>Personal Auto</td>\n",
       "      <td>Personal L3</td>\n",
       "      <td>Offer3</td>\n",
       "      <td>Call Center</td>\n",
       "      <td>SUV</td>\n",
       "      <td>Medsize</td>\n",
       "      <td>A</td>\n",
       "    </tr>\n",
       "    <tr>\n",
       "      <th>3</th>\n",
       "      <td>Oregon</td>\n",
       "      <td>Yes</td>\n",
       "      <td>Extended</td>\n",
       "      <td>College</td>\n",
       "      <td>1/11/11</td>\n",
       "      <td>Employed</td>\n",
       "      <td>M</td>\n",
       "      <td>Suburban</td>\n",
       "      <td>Single</td>\n",
       "      <td>Corporate Auto</td>\n",
       "      <td>Corporate L3</td>\n",
       "      <td>Offer2</td>\n",
       "      <td>Branch</td>\n",
       "      <td>Four-Door Car</td>\n",
       "      <td>Medsize</td>\n",
       "      <td>A</td>\n",
       "    </tr>\n",
       "    <tr>\n",
       "      <th>4</th>\n",
       "      <td>Oregon</td>\n",
       "      <td>No</td>\n",
       "      <td>Premium</td>\n",
       "      <td>Bachelor</td>\n",
       "      <td>1/17/11</td>\n",
       "      <td>Medical Leave</td>\n",
       "      <td>F</td>\n",
       "      <td>Suburban</td>\n",
       "      <td>Married</td>\n",
       "      <td>Personal Auto</td>\n",
       "      <td>Personal L2</td>\n",
       "      <td>Offer1</td>\n",
       "      <td>Branch</td>\n",
       "      <td>Four-Door Car</td>\n",
       "      <td>Medsize</td>\n",
       "      <td>M</td>\n",
       "    </tr>\n",
       "  </tbody>\n",
       "</table>\n",
       "</div>"
      ],
      "text/plain": [
       "        state response  coverage education effective_to_date employmentstatus  \\\n",
       "0     Arizona       No     Basic   College           2/18/11         Employed   \n",
       "1  California       No     Basic   College           1/18/11       Unemployed   \n",
       "2  Washington       No     Basic  Bachelor           2/10/11         Employed   \n",
       "3      Oregon      Yes  Extended   College           1/11/11         Employed   \n",
       "4      Oregon       No   Premium  Bachelor           1/17/11    Medical Leave   \n",
       "\n",
       "  gender location_code marital_status     policy_type        policy  \\\n",
       "0      M      Suburban        Married  Corporate Auto  Corporate L3   \n",
       "1      F      Suburban         Single   Personal Auto   Personal L3   \n",
       "2      M      Suburban         Single   Personal Auto   Personal L3   \n",
       "3      M      Suburban         Single  Corporate Auto  Corporate L3   \n",
       "4      F      Suburban        Married   Personal Auto   Personal L2   \n",
       "\n",
       "  renew_offer_type sales_channel  vehicle_class vehicle_size vehicle_type  \n",
       "0           Offer3         Agent  Four-Door Car      Medsize            M  \n",
       "1           Offer4   Call Center  Four-Door Car      Medsize            M  \n",
       "2           Offer3   Call Center            SUV      Medsize            A  \n",
       "3           Offer2        Branch  Four-Door Car      Medsize            A  \n",
       "4           Offer1        Branch  Four-Door Car      Medsize            M  "
      ]
     },
     "execution_count": 115,
     "metadata": {},
     "output_type": "execute_result"
    }
   ],
   "source": [
    "categoricals = df.select_dtypes(object)\n",
    "categoricals.head()"
   ]
  },
  {
   "cell_type": "markdown",
   "id": "ad4ec99e",
   "metadata": {},
   "source": [
    "### Conduct One Hot Encoder data fitting on policy type"
   ]
  },
  {
   "cell_type": "code",
   "execution_count": 122,
   "id": "6516e1ee",
   "metadata": {},
   "outputs": [
    {
     "data": {
      "text/plain": [
       "Personal Auto     8016\n",
       "Corporate Auto    2319\n",
       "Special Auto       441\n",
       "Name: policy_type, dtype: int64"
      ]
     },
     "execution_count": 122,
     "metadata": {},
     "output_type": "execute_result"
    }
   ],
   "source": [
    "categoricals[\"policy_type\"].value_counts()"
   ]
  },
  {
   "cell_type": "code",
   "execution_count": 128,
   "id": "1bef4453",
   "metadata": {},
   "outputs": [],
   "source": [
    "from sklearn import preprocessing"
   ]
  },
  {
   "cell_type": "code",
   "execution_count": 130,
   "id": "2d0bac04",
   "metadata": {},
   "outputs": [
    {
     "data": {
      "text/plain": [
       "OneHotEncoder(handle_unknown='ignore')"
      ]
     },
     "execution_count": 130,
     "metadata": {},
     "output_type": "execute_result"
    }
   ],
   "source": [
    "enc = preprocessing.OneHotEncoder(handle_unknown=\"ignore\")\n",
    "X = [[\"Personal Auto\", 1], [\"Corporate Auto\", 2], [\"Special Auto\", 3]]\n",
    "enc.fit(X)"
   ]
  },
  {
   "cell_type": "code",
   "execution_count": 126,
   "id": "1704a851",
   "metadata": {},
   "outputs": [],
   "source": [
    "input_data = pd.DataFrame ([[\"Personal Auto\", 1], [\"Corporate Auto\", 2], [\"Special Auto\", 3]])"
   ]
  },
  {
   "cell_type": "code",
   "execution_count": 131,
   "id": "0ff4aafc",
   "metadata": {},
   "outputs": [
    {
     "data": {
      "text/plain": [
       "array([[0., 1., 0., 1., 0., 0.],\n",
       "       [1., 0., 0., 0., 1., 0.],\n",
       "       [0., 0., 1., 0., 0., 1.]])"
      ]
     },
     "execution_count": 131,
     "metadata": {},
     "output_type": "execute_result"
    }
   ],
   "source": [
    "enc = preprocessing.OneHotEncoder(handle_unknown=\"ignore\")\n",
    "enc.fit_transform(input_data).toarray()"
   ]
  },
  {
   "cell_type": "code",
   "execution_count": 139,
   "id": "83a03595",
   "metadata": {},
   "outputs": [
    {
     "data": {
      "text/plain": [
       "array([[1., 0., 0., 0., 1., 0.],\n",
       "       [0., 1., 0., 0., 0., 1.],\n",
       "       [0., 1., 0., 0., 0., 1.],\n",
       "       ...,\n",
       "       [1., 0., 0., 0., 1., 0.],\n",
       "       [0., 1., 0., 1., 0., 0.],\n",
       "       [0., 1., 0., 0., 0., 1.]])"
      ]
     },
     "execution_count": 139,
     "metadata": {},
     "output_type": "execute_result"
    }
   ],
   "source": [
    "### work with two categorical variables.\n",
    "enc = preprocessing.OneHotEncoder(handle_unknown=\"ignore\")\n",
    "enc.fit_transform(np.array(categoricals.loc[:,[\"policy_type\",\"marital_status\"]])).toarray()"
   ]
  },
  {
   "cell_type": "code",
   "execution_count": null,
   "id": "85a9aa17",
   "metadata": {},
   "outputs": [],
   "source": []
  }
 ],
 "metadata": {
  "kernelspec": {
   "display_name": "Python 3",
   "language": "python",
   "name": "python3"
  },
  "language_info": {
   "codemirror_mode": {
    "name": "ipython",
    "version": 3
   },
   "file_extension": ".py",
   "mimetype": "text/x-python",
   "name": "python",
   "nbconvert_exporter": "python",
   "pygments_lexer": "ipython3",
   "version": "3.8.8"
  }
 },
 "nbformat": 4,
 "nbformat_minor": 5
}
